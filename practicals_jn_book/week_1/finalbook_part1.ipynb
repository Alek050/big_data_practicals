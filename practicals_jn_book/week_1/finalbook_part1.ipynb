{
 "cells": [
  {
   "cell_type": "code",
   "execution_count": 1,
   "metadata": {
    "tags": [
     "hide-input"
    ]
   },
   "outputs": [
    {
     "name": "stdout",
     "output_type": "stream",
     "text": [
      "My Python version is: 3.11.1\n",
      "My Numpy version is: 1.26.4\n",
      "My Pandas version is: 2.2.2\n"
     ]
    }
   ],
   "source": [
    "import platform  # imports go at the top of your script\n",
    "import os  # start with imports from the standard library followed by a space\n",
    "\n",
    "import numpy as np  # then import custom/user packages\n",
    "import pandas as pd  # you can use shorter names for easy reference\n",
    "import matplotlib.pyplot as plt  # np, pd, and plt are common for these packages\n",
    "\n",
    "# this is a IPython magic command, you may ignore it\n",
    "%matplotlib inline  \n",
    "\n",
    "print(f\"My Python version is: {platform.python_version()}\")\n",
    "print(f\"My Numpy version is: {np.__version__}\")\n",
    "print(f\"My Pandas version is: {pd.__version__}\")"
   ]
  },
  {
   "cell_type": "markdown",
   "metadata": {},
   "source": [
    "# Introduction to Pandas\n",
    "\n",
    "<img src=\"https://pandas.pydata.org/pandas-docs/stable/_static/pandas.svg\" alt=\"pandas logo\" width=\"200\"/>\n",
    "\n",
    "## Lets get started\n",
    "\n",
    "Time to get started! The following exercises will introduce you to data inspection and mangling with the Python package Pandas. The theme of this section is Data Reading & Manipulation. You will learn to:\n",
    "-\tWork with DataFrames\n",
    "-\tRead and write files\n",
    "-\tSelect Data\n",
    "-\tFiltering Data (Missing Values)\n",
    "-\tManipulate Data (Sort, Group)\n",
    "\n",
    "````{admonition} Tip\n",
    ":class: tip\n",
    "We put a lot of links to the Pandas [documentation](https://pandas.pydata.org/pandas-docs/stable/), this is because I want you to get used to looking at the documentation to solve a problem. If you want to you can also keep the [cheat-sheet](http://pandas.pydata.org/Pandas_Cheat_Sheet.pdf) for this session nearby and hang it above your bed. Remember to look up functions and methods (``ctrl+I``) in Spyder or type:\n",
    "\n",
    "```bash\n",
    "?pd.read_csv\n",
    "# or\n",
    "help(pd.read_csv)\n",
    "````\n",
    "\n",
    "> **Objective:**\n",
    ">\n",
    "> Your research objective is to see how the total lifted weight of lifters in the IPF in the world championships has developed over time, to answer this question we will use a real dataset, but first we have to go over the basics.\n",
    ">\n",
    "\n",
    "### Assignment 0\n",
    "\n",
    "Remember the dictionary *lifters* with all the information on the top lifters in the International Powerlifting Federation of the pre-assignment? It is convenient to put the type of data arrangement in the name (dic for dictionairy, li for lists, df for dataframes) \n",
    "\n",
    "```python\n",
    "names = [\"Andrzej Stanaszek\", \"Ray Williams\", \"Sergey Fedosienko\", \n",
    "         \"Don Reinhoudt\", \"Dennis Cornelius\", \"Brett Gibbs\", \"John Haack\"]\n",
    "ages = [27, 30, 33, 28, 35, 27, None]\n",
    "totalkg = [592.0, 585.5, 584.5, 567.5, 563.0, 555.5, 543.5]\n",
    "\n",
    "dic_lifters = {\"Name\": names, \"Age\": ages, \"Totalkg\": totalkg} # make it a dict\n",
    "\n",
    "```\n",
    "\n",
    "- **Convert the dictionary into a DataFrame (df_lifters) using the [DataFrame](https://pandas.pydata.org/pandas-docs/stable/reference/api/pandas.DataFrame.html) class from the Pandas package and print to check.**"
   ]
  },
  {
   "cell_type": "code",
   "execution_count": 23,
   "metadata": {
    "tags": [
     "hide-input"
    ]
   },
   "outputs": [
    {
     "name": "stdout",
     "output_type": "stream",
     "text": [
      "                Name   Age  Totalkg\n",
      "0  Andrzej Stanaszek  27.0    592.0\n",
      "1       Ray Williams  30.0    585.5\n",
      "2  Sergey Fedosienko  33.0    584.5\n",
      "3      Don Reinhoudt  28.0    567.5\n",
      "4   Dennis Cornelius  35.0    563.0\n",
      "5        Brett Gibbs  27.0    555.5\n",
      "6         John Haack   NaN    543.5\n"
     ]
    }
   ],
   "source": [
    "names = [\"Andrzej Stanaszek\", \"Ray Williams\", \"Sergey Fedosienko\", \n",
    "         \"Don Reinhoudt\", \"Dennis Cornelius\", \"Brett Gibbs\", \"John Haack\"]  # [] => list constructor\n",
    "ages = [27, 30, 33, 28, 35, 27, None]\n",
    "totalkg = [592.0, 585.5, 584.5, 567.5, 563.0, 555.5, 543.5]\n",
    "\n",
    "dic_lifters = {\"Name\": names, \"Age\": ages, \"Totalkg\": totalkg}  # {} => dict constructor\n",
    "\n",
    "df_lifters = pd.DataFrame(dic_lifters)\n",
    "print(df_lifters)"
   ]
  },
  {
   "cell_type": "markdown",
   "metadata": {},
   "source": [
    "## Indexing with .loc and .iloc\n",
    "\n",
    "The result of your print statement already looks pretty nice. What you should notice is that we now get an index next to our dataframe, by default these are integers. In this case it's just an integer index because we didn't specify anything. This could also have been, for example, dates or IDs. The index is a very powerful tool, especially when you start slicing your data and merging DataFrames. \n",
    "\n",
    "Which bring us to the next advantage of DataFrames: slicing. You can index columns in a dataframe just like you would with a dictionary, but now you can also select rows.\n",
    "```python\n",
    "df_lifters[\"Name\"]  # returns the name column as a Series\n",
    "df_lifters.Name  # returns the name column as a Series\n",
    "df_lifters[[\"Name\"]]  # returns the name column as a DataFrame\n",
    "df_lifters[1:5]  # returns the second till fifth row\n",
    "df_lifters[[True, False, True, False, False, True, False]]  # booleans indices return rows\n",
    "```\n",
    "\n",
    "**As a mini-challenge, play around with this in the console. If you don't hit an error, you haven't played around enough!**\n",
    "\n",
    "However, if you try to slice the row and the column at the same time you will get an error. This is because Pandas does not know if you are using integer slices or 'names' (remember that the index can be anything).\n",
    "\n",
    "To do so we need a location indexer. Pandas provides two options here: ``.iloc`` and ``.loc`` ([docs](https://pandas.pydata.org/pandas-docs/stable/user_guide/indexing.html)): \n",
    "- iloc gives you traditional Python slicing \\[start:stop:step, start:stop:step\\] for \\[rows, columns\\]\n",
    "- loc gives you label based/boolean indexing \\[name lifter:name other lifter, Totalkg\\] for \\[rows, columns\\]\n",
    "\n",
    "**Some important gotcha's:** \n",
    "- As a mnemonic you can remember that the i in iloc stands for integer and thus refers to numbers.\n",
    "- The syntax is dataframe.loc\\[...,...\\], with square brackets, not with parentheses (it's not a function call).\n",
    "- Iloc is incluse:exclusive, so you will slice up till -but not including- the last index. This is [useful](http://www.cs.utexas.edu/users/EWD/transcriptions/EWD08xx/EWD831.html) because the size of the resulting array is the same as exclusive-inclusive, but it does take some training.\n",
    "- However, loc includes both the start and stop index, this is useful because you are often looking for very specific indices with loc.\n",
    "- If you ask for a single column or row you get a Series object. If you want a dataframe instead, you can prevent this by putting the single index in a list object (like above) by using square brackets \\[...\\].\n",
    "- If you want to get all the rows of columns, you can use ``:`` .\n",
    "- Like with most operations in Python you will get a view (saves memory) most of the times and not a copy (use [.copy()](https://docs.python.org/3/library/copy.html) to get a copy).\n",
    "\n",
    "### Assignment 1\n",
    "\n",
    "You already know traditional Python indexing from DataCamp so that seems like a good place to start.\n",
    "\n",
    "- **Select and print the first 2 lifters using .iloc.**\n",
    "\n",
    "- **Select and print the last 2 lifters using .iloc.**\n",
    "\n",
    "- **Select and print the names of all lifters as a DataFrame using .iloc.**\n",
    "\n",
    "- **Select and print the names of all lifters as a DataFrame using .iloc, make sure you get a DataFrame.**\n",
    "\n",
    "You should get something like this:"
   ]
  },
  {
   "cell_type": "code",
   "execution_count": 4,
   "metadata": {
    "scrolled": true,
    "tags": [
     "hide-input"
    ]
   },
   "outputs": [
    {
     "name": "stdout",
     "output_type": "stream",
     "text": [
      "                Name   Age  Totalkg\n",
      "0  Andrzej Stanaszek  27.0    592.0\n",
      "1       Ray Williams  30.0    585.5 \n",
      "\n",
      "          Name   Age  Totalkg\n",
      "5  Brett Gibbs  27.0    555.5\n",
      "6   John Haack   NaN    543.5 \n",
      "\n",
      "0    Andrzej Stanaszek\n",
      "1         Ray Williams\n",
      "2    Sergey Fedosienko\n",
      "3        Don Reinhoudt\n",
      "4     Dennis Cornelius\n",
      "5          Brett Gibbs\n",
      "6           John Haack\n",
      "Name: Name, dtype: object \n",
      "\n",
      "                Name\n",
      "0  Andrzej Stanaszek\n",
      "1       Ray Williams\n",
      "2  Sergey Fedosienko\n",
      "3      Don Reinhoudt\n",
      "4   Dennis Cornelius\n",
      "5        Brett Gibbs\n",
      "6         John Haack \n",
      "\n"
     ]
    }
   ],
   "source": [
    "print(df_lifters.iloc[:2, :], \"\\n\")  # print with an extra newline for readability\n",
    "print(df_lifters.iloc[-2:, :], \"\\n\") # In python, \"\\n\" is the same as an enter\n",
    "print(df_lifters.iloc[:, 0], \"\\n\")\n",
    "print(df_lifters.iloc[:, [0]], \"\\n\")"
   ]
  },
  {
   "cell_type": "markdown",
   "metadata": {},
   "source": [
    "## (Re)setting the index\n",
    "\n",
    "By default, the index is an array of integers. However, you can pretty much set anything to be the index. For example, you could use the names of the lifters as the index, or maybe their birthdate. Setting the index is done with ``.set_index()`` (who would have guessed). Resetting the index can be done with ``.reset_index()``. \n",
    "\n",
    "This method places the index column by default back in your DataFrame and gives you an integer index again. However, you can specify certain key arguments in this method to change this, to drop the index: ``drop=True``\n",
    "\n",
    "Setting and resetting the index is a very powerful way to interact with your DataFrame. It is also a common source for errors, so always be aware of your index! (if you are completely lost, just run your initital DataFrame again and start over)\n",
    "\n",
    "### Assignment 2\n",
    "\n",
    "Now you should try the same thing with .loc. Remember that .loc includes both the start and stop index.\n",
    "\n",
    "- **Set \"Name\" as the [index](https://pandas.pydata.org/pandas-docs/stable/reference/api/pandas.DataFrame.set_index.html) of your dataframe and print the result.**\n",
    "\n",
    "- **Select and print the first 2 lifters using .loc.**\n",
    "\n",
    "- **Select and print the last 2 lifters using .loc.**\n",
    "\n",
    "- **Select and print the Totalkg of all lifters as a DataFrame using .loc.**\n",
    "\n",
    "You should get something like this:"
   ]
  },
  {
   "cell_type": "code",
   "execution_count": 24,
   "metadata": {
    "scrolled": true,
    "tags": [
     "hide-input"
    ]
   },
   "outputs": [
    {
     "name": "stdout",
     "output_type": "stream",
     "text": [
      "                    Age  Totalkg\n",
      "Name                            \n",
      "Andrzej Stanaszek  27.0    592.0\n",
      "Ray Williams       30.0    585.5 \n",
      "\n",
      "              Age  Totalkg\n",
      "Name                      \n",
      "Brett Gibbs  27.0    555.5\n",
      "John Haack    NaN    543.5 \n",
      "\n",
      "                   Totalkg\n",
      "Name                      \n",
      "Andrzej Stanaszek    592.0\n",
      "Ray Williams         585.5\n",
      "Sergey Fedosienko    584.5\n",
      "Don Reinhoudt        567.5\n",
      "Dennis Cornelius     563.0\n",
      "Brett Gibbs          555.5\n",
      "John Haack           543.5 \n",
      "\n"
     ]
    }
   ],
   "source": [
    "df_lifters.set_index(\"Name\", inplace=True)  # same as df_lifters = df_lifters.set_index(\"Name\")\n",
    "print(df_lifters.loc[\"Andrzej Stanaszek\":\"Ray Williams\", :], \"\\n\")\n",
    "print(df_lifters.loc[\"Brett Gibbs\":\"John Haack\", :], \"\\n\")\n",
    "print(df_lifters.loc[:, [\"Totalkg\"]], \"\\n\")"
   ]
  },
  {
   "cell_type": "markdown",
   "metadata": {},
   "source": [
    "## Copy\n",
    "\n",
    "### Assignment 3\n",
    "\n",
    "We already briefly mentioned that slicing in Pandas (and most other Python objects) returns a view not a copy. This might be a little counter intuitive if you're not familiar with general purpose programming languages (MATLAB is not). We do not want to mess with our lifter_df, so we will make a new dataframe for this assignment with three columns, ranging from 1-10:\n",
    "```python\n",
    "df1 = pd.DataFrame({\"X\": list(range(10)), \"Y\": list(range(10)), \"Z\": list(range(10))})\n",
    "```\n",
    "\n",
    "- **Make a slice of the first five rows using .iloc or .loc and assign it to a new variable.**\n",
    "\n",
    "- **Select all samples with .iloc or .loc and set all samples in the new variable to 0 and print the DataFrame.**\n",
    "\n",
    "- **Now print the original DataFrame. What do you notice?**\n",
    "\n",
    "You should get something like this:"
   ]
  },
  {
   "cell_type": "code",
   "execution_count": 25,
   "metadata": {
    "scrolled": true,
    "tags": [
     "hide-input"
    ]
   },
   "outputs": [
    {
     "name": "stdout",
     "output_type": "stream",
     "text": [
      "Sliced df:\n",
      "    X  Y  Z\n",
      "0  0  0  0\n",
      "1  0  0  0\n",
      "2  0  0  0\n",
      "3  0  0  0\n",
      "4  0  0  0 \n",
      "\n",
      "Original df:\n",
      "    X  Y  Z\n",
      "0  0  0  0\n",
      "1  0  0  0\n",
      "2  0  0  0\n",
      "3  0  0  0\n",
      "4  0  0  0\n",
      "5  5  5  5\n",
      "6  6  6  6\n",
      "7  7  7  7\n",
      "8  8  8  8\n",
      "9  9  9  9\n"
     ]
    },
    {
     "name": "stderr",
     "output_type": "stream",
     "text": [
      "/var/folders/d6/sgv22vx10fb8mj7yrljzpkch0000gn/T/ipykernel_9819/483482325.py:3: SettingWithCopyWarning: \n",
      "A value is trying to be set on a copy of a slice from a DataFrame\n",
      "\n",
      "See the caveats in the documentation: https://pandas.pydata.org/pandas-docs/stable/user_guide/indexing.html#returning-a-view-versus-a-copy\n",
      "  df2.loc[:] = 0\n"
     ]
    }
   ],
   "source": [
    "df1 = pd.DataFrame({\"X\": list(range(10)), \"Y\": list(range(10)), \"Z\": list(range(10))})\n",
    "df2 = df1.iloc[:5, :]\n",
    "df2.loc[:] = 0\n",
    "print(\"Sliced df:\\n\", df2, \"\\n\") # \\n gives you an empty line after your print statement for readability\n",
    "print(\"Original df:\\n\", df1)"
   ]
  },
  {
   "cell_type": "markdown",
   "metadata": {},
   "source": [
    "```{warning}\n",
    "Oh no, you've not only altered df1, but also df2. This is because the slicing operation gave you a view into the DataFrame, but not a copy of the data. Again, this saves a lot of memory, but it can mess up your data! Luckily Pandas gives us a warning when we try to do this!\n",
    "```\n",
    "\n",
    "To prevent this problem you can use the ``.copy()`` method which returns you a copy and not a view.\n",
    "\n",
    "Note: whether Pandas returns a copy or a view is actually a pretty delicate topic, but just assume you get a view and use ``.copy()`` when you plan on changing the contents of the DataFrame.\n",
    "\n",
    "## Accessors\n",
    "\n",
    "We often use mixed data in Pandas. What if I want to apply a [string method](https://docs.python.org/3/library/stdtypes.html#string-methods) to an entire row or column? For this we have Accessors, they provide an interface to additional methods, specifically for: strings, categorical data, and datetime-like data in a way that they can be applied to the entire column.\n",
    "\n",
    "For example, if we want to remove all whitespace from the name column we would use ``.replace(\" \", \"\")`` on every string. \n",
    "We *could* loop over every row using the ``.iterrows()`` or the slightly faster ``.ittertuples()`` method (don't actually do this). We *could* write a lambda function. However, the string accessor makes this very easy for us and it vectorizes the operation:\n",
    "\n",
    "```python\n",
    "df_lifters[\"Name\"].str.replace(\" \", \"\")  # removes all whitespace from entire column\n",
    "df_lifters.columns.str.replace(\" \", \"\")  # removes all whitespace from column names\n",
    "```\n",
    "```{admonition} Tip\n",
    ":class: tip\n",
    "Think about this example and maybe play around with it. Do these lines change the underlying data, or just return a view with changed data? What is the difference between the two?\n",
    "```\n",
    "\n",
    "Cleaning up strings is a common operation in data science. Always check (your column names) for unwanted whitespace!\n",
    "\n",
    "### Assignment 4\n",
    "\n",
    "Consider an entry like this: {\"Name\": \"ALEXEY Kuzmin\", \"Age\": 34, \"Totalkg\": 527.25}. We can add it to the dataframe using the [concat](https://pandas.pydata.org/pandas-docs/stable/reference/api/pandas.concat.html) method: \n",
    "\n",
    "```python\n",
    "df_lifters_to_add = pd.DataFrame({\"Name\": \"ALEXEY Kuzmin\", \"Age\": 34, \"Totalkg\": 527.25}, index=[0])\n",
    "df_lifters = pd.concat([df_lifters, df_lifters_to_add], ignore_index=True) # overwrite df_lifters to be the new dataframe where the new lifter is added\n",
    "```\n",
    "\n",
    "His first name is fully capitalized unlike all the other names in the DataFrame, this makes you a little more nervous than you would like to admit. Using Python's string methods this can easily be fixed by doing a ``.title()`` [\\[docs\\]](https://docs.python.org/3/library/stdtypes.html#str.title). However, we would need to loop over the entire Series, which would be slow. Luckily, we can use the string accessor ``.str``:\n",
    "````{margin}\n",
    "```{admonition} Tip\n",
    ":class: tip\n",
    "You are about to use your first method that accepts the inplace keyword argument. Set it to True to make everything more readable!\n",
    "```\n",
    "````\n",
    "- **First, [reset](https://pandas.pydata.org/pandas-docs/stable/reference/api/pandas.DataFrame.reset_index.html) the index with the appropriate method so the name column is a column again.**\n",
    "- **Add Alexey to the DataFrame. Do you understand what the ignore_index does?**\n",
    "- **Use the string accessor on the \"Name\" column to make sure all names and surnames start with a capitalized letter.**\n",
    "\n",
    "You should get something like this:"
   ]
  },
  {
   "cell_type": "code",
   "execution_count": 26,
   "metadata": {
    "tags": [
     "hide-input"
    ]
   },
   "outputs": [
    {
     "data": {
      "text/html": [
       "<div>\n",
       "<style scoped>\n",
       "    .dataframe tbody tr th:only-of-type {\n",
       "        vertical-align: middle;\n",
       "    }\n",
       "\n",
       "    .dataframe tbody tr th {\n",
       "        vertical-align: top;\n",
       "    }\n",
       "\n",
       "    .dataframe thead th {\n",
       "        text-align: right;\n",
       "    }\n",
       "</style>\n",
       "<table border=\"1\" class=\"dataframe\">\n",
       "  <thead>\n",
       "    <tr style=\"text-align: right;\">\n",
       "      <th></th>\n",
       "      <th>Name</th>\n",
       "      <th>Age</th>\n",
       "      <th>Totalkg</th>\n",
       "    </tr>\n",
       "  </thead>\n",
       "  <tbody>\n",
       "    <tr>\n",
       "      <th>0</th>\n",
       "      <td>Andrzej Stanaszek</td>\n",
       "      <td>27.0</td>\n",
       "      <td>592.00</td>\n",
       "    </tr>\n",
       "    <tr>\n",
       "      <th>1</th>\n",
       "      <td>Ray Williams</td>\n",
       "      <td>30.0</td>\n",
       "      <td>585.50</td>\n",
       "    </tr>\n",
       "    <tr>\n",
       "      <th>2</th>\n",
       "      <td>Sergey Fedosienko</td>\n",
       "      <td>33.0</td>\n",
       "      <td>584.50</td>\n",
       "    </tr>\n",
       "    <tr>\n",
       "      <th>3</th>\n",
       "      <td>Don Reinhoudt</td>\n",
       "      <td>28.0</td>\n",
       "      <td>567.50</td>\n",
       "    </tr>\n",
       "    <tr>\n",
       "      <th>4</th>\n",
       "      <td>Dennis Cornelius</td>\n",
       "      <td>35.0</td>\n",
       "      <td>563.00</td>\n",
       "    </tr>\n",
       "    <tr>\n",
       "      <th>5</th>\n",
       "      <td>Brett Gibbs</td>\n",
       "      <td>27.0</td>\n",
       "      <td>555.50</td>\n",
       "    </tr>\n",
       "    <tr>\n",
       "      <th>6</th>\n",
       "      <td>John Haack</td>\n",
       "      <td>NaN</td>\n",
       "      <td>543.50</td>\n",
       "    </tr>\n",
       "    <tr>\n",
       "      <th>7</th>\n",
       "      <td>Alexey Kuzmin</td>\n",
       "      <td>34.0</td>\n",
       "      <td>527.25</td>\n",
       "    </tr>\n",
       "  </tbody>\n",
       "</table>\n",
       "</div>"
      ],
      "text/plain": [
       "                Name   Age  Totalkg\n",
       "0  Andrzej Stanaszek  27.0   592.00\n",
       "1       Ray Williams  30.0   585.50\n",
       "2  Sergey Fedosienko  33.0   584.50\n",
       "3      Don Reinhoudt  28.0   567.50\n",
       "4   Dennis Cornelius  35.0   563.00\n",
       "5        Brett Gibbs  27.0   555.50\n",
       "6         John Haack   NaN   543.50\n",
       "7      Alexey Kuzmin  34.0   527.25"
      ]
     },
     "execution_count": 26,
     "metadata": {},
     "output_type": "execute_result"
    }
   ],
   "source": [
    "df_lifters.reset_index(inplace=True)  # equal to df_lifters = df_lifters.reset_index()\n",
    "df_lifters_to_add = pd.DataFrame({\"Name\": \"ALEXEY Kuzmin\", \"Age\": 34, \"Totalkg\": 527.25}, index=[0])\n",
    "df_lifters = pd.concat([df_lifters, df_lifters_to_add], ignore_index=True) # overwrite df_lifters to be the new dataframe where the new lifter is added\n",
    "df_lifters[\"Name\"] = df_lifters[\"Name\"].str.title()\n",
    "df_lifters  # sometimes I don't use print, this is a feature of IPython/Jupyter"
   ]
  },
  {
   "cell_type": "markdown",
   "metadata": {},
   "source": [
    "### Assignment 5\n",
    "\n",
    "````{margin}\n",
    "```{admonition} Tip\n",
    ":class: tip\n",
    "Use the string accessor method, use the keyword argument expand=True to put your answer in two columns!\n",
    "```\n",
    "````\n",
    "- **Make a column for first name and one for surname with the ``.split()`` method. [[docs]](https://pandas.pydata.org/docs/reference/api/pandas.Series.str.split.html)**\n",
    "- **Use the string accessor on the \"Firstname\" and \"Surname\" columns to make sure there are no whitespaces in the columns**\n",
    "- **Change the Name column name to Fullname. Use the ``.rename()`` method (look it up).**\n",
    "- **Rearange the columns so they're equal to [\"Fullname\", \"Firstname\", \"Surname\", \"Age\", \"Totalkg\"].**\n",
    "\n",
    "You should get something like this:"
   ]
  },
  {
   "cell_type": "code",
   "execution_count": 27,
   "metadata": {
    "tags": [
     "hide-input"
    ]
   },
   "outputs": [
    {
     "data": {
      "text/html": [
       "<div>\n",
       "<style scoped>\n",
       "    .dataframe tbody tr th:only-of-type {\n",
       "        vertical-align: middle;\n",
       "    }\n",
       "\n",
       "    .dataframe tbody tr th {\n",
       "        vertical-align: top;\n",
       "    }\n",
       "\n",
       "    .dataframe thead th {\n",
       "        text-align: right;\n",
       "    }\n",
       "</style>\n",
       "<table border=\"1\" class=\"dataframe\">\n",
       "  <thead>\n",
       "    <tr style=\"text-align: right;\">\n",
       "      <th></th>\n",
       "      <th>Fullname</th>\n",
       "      <th>Firstname</th>\n",
       "      <th>Surname</th>\n",
       "      <th>Age</th>\n",
       "      <th>Totalkg</th>\n",
       "    </tr>\n",
       "  </thead>\n",
       "  <tbody>\n",
       "    <tr>\n",
       "      <th>0</th>\n",
       "      <td>Andrzej Stanaszek</td>\n",
       "      <td>Andrzej</td>\n",
       "      <td>Stanaszek</td>\n",
       "      <td>27.0</td>\n",
       "      <td>592.00</td>\n",
       "    </tr>\n",
       "    <tr>\n",
       "      <th>1</th>\n",
       "      <td>Ray Williams</td>\n",
       "      <td>Ray</td>\n",
       "      <td>Williams</td>\n",
       "      <td>30.0</td>\n",
       "      <td>585.50</td>\n",
       "    </tr>\n",
       "    <tr>\n",
       "      <th>2</th>\n",
       "      <td>Sergey Fedosienko</td>\n",
       "      <td>Sergey</td>\n",
       "      <td>Fedosienko</td>\n",
       "      <td>33.0</td>\n",
       "      <td>584.50</td>\n",
       "    </tr>\n",
       "    <tr>\n",
       "      <th>3</th>\n",
       "      <td>Don Reinhoudt</td>\n",
       "      <td>Don</td>\n",
       "      <td>Reinhoudt</td>\n",
       "      <td>28.0</td>\n",
       "      <td>567.50</td>\n",
       "    </tr>\n",
       "    <tr>\n",
       "      <th>4</th>\n",
       "      <td>Dennis Cornelius</td>\n",
       "      <td>Dennis</td>\n",
       "      <td>Cornelius</td>\n",
       "      <td>35.0</td>\n",
       "      <td>563.00</td>\n",
       "    </tr>\n",
       "    <tr>\n",
       "      <th>5</th>\n",
       "      <td>Brett Gibbs</td>\n",
       "      <td>Brett</td>\n",
       "      <td>Gibbs</td>\n",
       "      <td>27.0</td>\n",
       "      <td>555.50</td>\n",
       "    </tr>\n",
       "    <tr>\n",
       "      <th>6</th>\n",
       "      <td>John Haack</td>\n",
       "      <td>John</td>\n",
       "      <td>Haack</td>\n",
       "      <td>NaN</td>\n",
       "      <td>543.50</td>\n",
       "    </tr>\n",
       "    <tr>\n",
       "      <th>7</th>\n",
       "      <td>Alexey Kuzmin</td>\n",
       "      <td>Alexey</td>\n",
       "      <td>Kuzmin</td>\n",
       "      <td>34.0</td>\n",
       "      <td>527.25</td>\n",
       "    </tr>\n",
       "  </tbody>\n",
       "</table>\n",
       "</div>"
      ],
      "text/plain": [
       "            Fullname Firstname     Surname   Age  Totalkg\n",
       "0  Andrzej Stanaszek   Andrzej   Stanaszek  27.0   592.00\n",
       "1       Ray Williams       Ray    Williams  30.0   585.50\n",
       "2  Sergey Fedosienko    Sergey  Fedosienko  33.0   584.50\n",
       "3      Don Reinhoudt       Don   Reinhoudt  28.0   567.50\n",
       "4   Dennis Cornelius    Dennis   Cornelius  35.0   563.00\n",
       "5        Brett Gibbs     Brett       Gibbs  27.0   555.50\n",
       "6         John Haack      John       Haack   NaN   543.50\n",
       "7      Alexey Kuzmin    Alexey      Kuzmin  34.0   527.25"
      ]
     },
     "execution_count": 27,
     "metadata": {},
     "output_type": "execute_result"
    }
   ],
   "source": [
    "df_lifters[[\"Firstname\", \"Surname\"]] = df_lifters[\"Name\"].str.split(expand=True)\n",
    "\n",
    "df_lifters[\"Firstname\"].str.replace(\" \", \"\")\n",
    "df_lifters[\"Surname\"].str.replace(\" \", \"\")\n",
    "\n",
    "df_lifters.rename(columns={\"Name\": \"Fullname\"}, inplace=True)\n",
    "\n",
    "df_lifters = df_lifters[[\"Fullname\", \"Firstname\", \"Surname\", \"Age\", \"Totalkg\"]]\n",
    "df_lifters"
   ]
  },
  {
   "cell_type": "markdown",
   "metadata": {},
   "source": [
    "## Sorting and dropping\n",
    "\n",
    "Pandas can also sort your rows for you. Right now, our DataFrame is starting to look like a mess. We can make it look a little more intuitive with the ``.sort_values()`` method. This method takes one or more columns and sorts the DataFrame based on the content those columns. **Look up the documentation for this method, do you understand it?** \n",
    "\n",
    "The age of John Haack is missing. We can choose to fill in the missing value or to just remove him from the DataFrame entirely. We decide that it's too much effort to look up his age (sorry John) and we remove him from the DataFrame. We can use the built-in ``.dropna()`` (alternatively you could use ``.fillna()`` to fill the gaps) method. **Look up the documentation for this method, do you understand it?** \n",
    "\n",
    "Alternatively, when you have duplicates in your data you might want to remove those. The built-in ``.drop_duplicates()`` method comes to the rescue here. **Look up the documentation for this method, do you understand it?** \n",
    "\n",
    "Finally, we can also remove the age column entirely if it does not serve any purpose. By doing this we free up some memory and we have one less column to worry about. For this you can use the ``.drop()`` method in which you specificy if you want to drop a row (axis=0) or a column (axis=1). **Look up the documentation for this method, how does it work?** \n",
    "\n",
    "You can also chain methods if you would like. If a method returns a DataFrame you can use another DataFrame method on it, e.g.:\n",
    "```python\n",
    "# First drop all NaNs and then sort the values by Totalkg:\n",
    "df_lifters = df_lifters.dropna()  # alternatively use df_lifters.dropna(inplace=True)\n",
    "df_lifters = df_lifters.sort_values(by=\"Totalkg\", ascending=False)\n",
    "\n",
    "# Same thing with method chaining:\n",
    "df_lifters = df_lifters.dropna().sort_values(by=\"Totalkg\", ascending=False)\n",
    "```\n",
    "\n",
    "### Assignment 6\n",
    "\n",
    "- **First sort all the data by Totalkg score, make sure the Totalkg is on top of your DataFrame. Print out the DataFrame. What do you notice?**\n",
    "\n",
    "- **Remove all rows that contain missing values. Print out the DataFrame. What happened to the index?**\n",
    "\n",
    "- **Drop the age column entirely. Print out the DataFrame.**\n",
    "\n",
    "- **For the following task you have to use method chaining: sort the data by Firstname (alphabetically), remove the Fullname column and reset the index. Print out the DataFrame.**\n",
    "\n",
    "You should get something like this:"
   ]
  },
  {
   "cell_type": "code",
   "execution_count": 28,
   "metadata": {
    "tags": [
     "hide-input"
    ]
   },
   "outputs": [
    {
     "name": "stdout",
     "output_type": "stream",
     "text": [
      "            Fullname Firstname     Surname   Age  Totalkg\n",
      "7      Alexey Kuzmin    Alexey      Kuzmin  34.0   527.25\n",
      "6         John Haack      John       Haack   NaN   543.50\n",
      "5        Brett Gibbs     Brett       Gibbs  27.0   555.50\n",
      "4   Dennis Cornelius    Dennis   Cornelius  35.0   563.00\n",
      "3      Don Reinhoudt       Don   Reinhoudt  28.0   567.50\n",
      "2  Sergey Fedosienko    Sergey  Fedosienko  33.0   584.50\n",
      "1       Ray Williams       Ray    Williams  30.0   585.50\n",
      "0  Andrzej Stanaszek   Andrzej   Stanaszek  27.0   592.00 \n",
      "\n",
      "            Fullname Firstname     Surname   Age  Totalkg\n",
      "7      Alexey Kuzmin    Alexey      Kuzmin  34.0   527.25\n",
      "5        Brett Gibbs     Brett       Gibbs  27.0   555.50\n",
      "4   Dennis Cornelius    Dennis   Cornelius  35.0   563.00\n",
      "3      Don Reinhoudt       Don   Reinhoudt  28.0   567.50\n",
      "2  Sergey Fedosienko    Sergey  Fedosienko  33.0   584.50\n",
      "1       Ray Williams       Ray    Williams  30.0   585.50\n",
      "0  Andrzej Stanaszek   Andrzej   Stanaszek  27.0   592.00 \n",
      "\n",
      "            Fullname Firstname     Surname  Totalkg\n",
      "7      Alexey Kuzmin    Alexey      Kuzmin   527.25\n",
      "5        Brett Gibbs     Brett       Gibbs   555.50\n",
      "4   Dennis Cornelius    Dennis   Cornelius   563.00\n",
      "3      Don Reinhoudt       Don   Reinhoudt   567.50\n",
      "2  Sergey Fedosienko    Sergey  Fedosienko   584.50\n",
      "1       Ray Williams       Ray    Williams   585.50\n",
      "0  Andrzej Stanaszek   Andrzej   Stanaszek   592.00 \n",
      "\n",
      "  Firstname     Surname  Totalkg\n",
      "0    Alexey      Kuzmin   527.25\n",
      "1   Andrzej   Stanaszek   592.00\n",
      "2     Brett       Gibbs   555.50\n",
      "3    Dennis   Cornelius   563.00\n",
      "4       Don   Reinhoudt   567.50\n",
      "5       Ray    Williams   585.50\n",
      "6    Sergey  Fedosienko   584.50 \n",
      "\n"
     ]
    }
   ],
   "source": [
    "df_lifters.sort_values(by=\"Totalkg\", ascending=True, inplace=True)\n",
    "print(df_lifters, \"\\n\") # \\n gives you an empty line after your print statement for readability\n",
    "\n",
    "df_lifters.dropna(inplace=True)\n",
    "print(df_lifters, \"\\n\")\n",
    "\n",
    "df_lifters.drop(\"Age\", axis=1, inplace=True)\n",
    "print(df_lifters, \"\\n\")\n",
    "\n",
    "df_lifters = df_lifters.sort_values(by=\"Firstname\", ascending=True).drop('Fullname', axis=1).reset_index(drop=True)\n",
    "print(df_lifters, \"\\n\")"
   ]
  }
 ],
 "metadata": {
  "celltoolbar": "Tags",
  "hide_input": false,
  "kernelspec": {
   "display_name": "Python 3 (ipykernel)",
   "language": "python",
   "name": "python3"
  },
  "language_info": {
   "codemirror_mode": {
    "name": "ipython",
    "version": 3
   },
   "file_extension": ".py",
   "mimetype": "text/x-python",
   "name": "python",
   "nbconvert_exporter": "python",
   "pygments_lexer": "ipython3",
   "version": "3.11.1"
  },
  "toc": {
   "base_numbering": 1,
   "nav_menu": {
    "height": "234px",
    "width": "160px"
   },
   "number_sections": true,
   "sideBar": true,
   "skip_h1_title": true,
   "title_cell": "Table of Contents",
   "title_sidebar": "Contents",
   "toc_cell": false,
   "toc_position": {
    "height": "calc(100% - 180px)",
    "left": "10px",
    "top": "150px",
    "width": "288.717px"
   },
   "toc_section_display": true,
   "toc_window_display": true
  }
 },
 "nbformat": 4,
 "nbformat_minor": 4
}
