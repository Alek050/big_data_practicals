{
 "cells": [
  {
   "cell_type": "code",
   "execution_count": 3,
   "metadata": {
    "tags": [
     "hide-input"
    ]
   },
   "outputs": [
    {
     "name": "stdout",
     "output_type": "stream",
     "text": [
      "My Python version is: 3.13.2\n",
      "My Numpy version is: 2.2.3\n",
      "My Pandas version is: 2.2.3\n",
      "My Seaborn version is: 0.13.2\n"
     ]
    }
   ],
   "source": [
    "import sys\n",
    "import os\n",
    "import warnings\n",
    "import platform\n",
    "\n",
    "import numpy as np\n",
    "import pandas as pd\n",
    "import matplotlib.pyplot as plt\n",
    "import seaborn as sns\n",
    "%matplotlib inline  \n",
    "\n",
    "print(f\"My Python version is: {platform.python_version()}\")\n",
    "print(f\"My Numpy version is: {np.__version__}\")\n",
    "print(f\"My Pandas version is: {pd.__version__}\")\n",
    "print(f\"My Seaborn version is: {sns.__version__}\")"
   ]
  },
  {
   "cell_type": "markdown",
   "metadata": {},
   "source": [
    "# Practical 2: Pokemon\n",
    "\n",
    ">Objective of this practical:\n",
    ">\n",
    ">You are selected to compete at the Pokémon World Champion Ships Master Tournament! Which pokemons do you need to be the best pokemon coach? Get in the mood with this [song](https://www.youtube.com/watch?v=JuYeHPFR3f0)!\n",
    "\n",
    "## Basic inspection\n",
    "\n",
    "Before you can do anything you need to load the dataset into memory. Get the dataset from Brightspace: pokemon_patch1.tsv\n",
    "\n",
    "### Assignment 0: load data\n",
    "\n",
    "The data is stored in a .tsv file. It is a tab-separated values file (tab is \"\\t\" in Python and most other major programming languages). You can open the file with Notepad(++) to inspect the contents before you read it in. It is also available [here](https://raw.githubusercontent.com/BWM146/Datasets/master/pokemon_patch1.tsv). To make it easier for yourself, make sure to have your python script in the same directory as your data file. This make it easy to always load in your data in the same way using the `os` module.\n",
    "\n",
    "- **Make sure your files are in the right directory and specify the `file_name` and `path`.**\n",
    "```python\n",
    "import os\n",
    "file = \"pokemon_patch1.tsv\"\n",
    "path = os.getcwd() # returns a string towards your current directory, e.g. \"C:/Documents/Big_data/practical_2\"\n",
    "file_loc = os.path.join(path, file) # \"C:/Documents/Big_data/practical_2/pokemon_patch1.tsv\"\n",
    "df = pd.read_csv(file_loc, ...)\n",
    "```\n",
    "- **Load the data as df_pokemon into Python using the ``.read_csv()`` [\\[docs\\]](https://pandas.pydata.org/pandas-docs/stable/reference/api/pandas.read_csv.html) function (this time you need to specify the delimiter).**\n",
    "- **Print the head of the data.**\n",
    "````{margin}\n",
    "```{admonition} Tip\n",
    ":class: tip\n",
    "For the last exercise you can either use a boolean index or use ``.set_index()`` and ``.loc``.\n",
    "```\n",
    "````\n",
    "- **Everyone has a favorite Pokemon, try to find yours in the data. If you don't have one, ask Matthias for his.** \n",
    "\n",
    "You should get something like this:"
   ]
  },
  {
   "cell_type": "code",
   "execution_count": 4,
   "metadata": {
    "scrolled": true,
    "tags": [
     "hide-input"
    ]
   },
   "outputs": [
    {
     "name": "stdout",
     "output_type": "stream",
     "text": [
      "   Unnamed: 0    #                  Name  HP  Attack  Defense  Sp. Atk  \\\n",
      "0           0  127                Seadra  55      65       95       95   \n",
      "1           1  675               Cubchoo  55      70       40       60   \n",
      "2           2  431  Deoxys Defense Forme  50      70      160       70   \n",
      "3           3  288               Linoone  78      70       61       50   \n",
      "4           4  749               Honedge  45      80      100       35   \n",
      "\n",
      "   Sp. Def  Speed  Generation  Legendary  Version        Types  \n",
      "0       45     85           1      False  Patch 1        Water  \n",
      "1       40     40           5      False  Patch 1          Ice  \n",
      "2      160     90           3       True  Patch 1      Psychic  \n",
      "3       61    100           3      False  Patch 1       Normal  \n",
      "4       37     28           6      False  Patch 1  Steel-Ghost   \n",
      "\n",
      "          Unnamed: 0   #  HP  Attack  Defense  Sp. Atk  Sp. Def  Speed  \\\n",
      "Name                                                                     \n",
      "Caterpie         301  14  45      30       35       20       20     45   \n",
      "\n",
      "          Generation  Legendary  Version Types  \n",
      "Name                                            \n",
      "Caterpie           1      False  Patch 1   Bug   \n",
      "\n",
      "    Unnamed: 0   #     Name  HP  Attack  Defense  Sp. Atk  Sp. Def  Speed  \\\n",
      "39          39  31  Pikachu  35      55       40       50       50     90   \n",
      "\n",
      "    Generation  Legendary  Version     Types  \n",
      "39           1      False  Patch 1  Electric  \n"
     ]
    }
   ],
   "source": [
    "import os\n",
    "file = \"pokemon_patch1.tsv\"\n",
    "path = os.getcwd() \n",
    "file_loc = os.path.join(path, file)\n",
    "\n",
    "df_pokemon = pd.read_csv(file_loc, sep=\"\\t\")\n",
    "print(df_pokemon.head(), \"\\n\")  # print with extra newline for readability\n",
    "print(df_pokemon.set_index(\"Name\").loc[[\"Caterpie\"], :], \"\\n\")  # alternatively use a boolean index\n",
    "print(df_pokemon[df_pokemon[\"Name\"] == \"Pikachu\"])  # boolean index"
   ]
  },
  {
   "cell_type": "markdown",
   "metadata": {},
   "source": [
    "We have a:\n",
    "- \\# column with the Pokemon number (unique identifier, not exactly in line with National Pokédex but good enough)\n",
    "- Name column with the Pokemon name\n",
    "- HP-Speed columns with the stats of the Pokemon (higher is stronger)\n",
    "- Generation column for when they were added to the game\n",
    "- Legendary column to indicate whether it's a legendary Pokemon or not\n",
    "- Version column to indicate for which patch of the game these stats are\n",
    "- Types column to indicate what type or types a Pokemon is\n",
    "\n",
    "What would be a sensible index for this exercise?\n",
    "\n",
    "### Assignment 1: descriptives\n",
    "\n",
    "You can do some preliminary inspection of the data. Do you still remember the methods you used in practical 1? Grab the exercises from the previous practical or the cheat-sheet if you can't remember.\n",
    "\n",
    "- **Display the info of the DataFrame.**\n",
    "\n",
    "- **Also print the tail of the data.**\n",
    "\n",
    "- **Describe the content of the columns.**\n",
    "````{margin}\n",
    "```{admonition} Tip\n",
    ":class: tip\n",
    "look up the ``.unique`` and ``.nunique`` methods\n",
    "```\n",
    "````\n",
    "- **How many unique values are present in the types column?**"
   ]
  },
  {
   "cell_type": "code",
   "execution_count": 5,
   "metadata": {
    "tags": [
     "hide-input"
    ]
   },
   "outputs": [
    {
     "name": "stdout",
     "output_type": "stream",
     "text": [
      "<class 'pandas.core.frame.DataFrame'>\n",
      "RangeIndex: 803 entries, 0 to 802\n",
      "Data columns (total 13 columns):\n",
      " #   Column      Non-Null Count  Dtype \n",
      "---  ------      --------------  ----- \n",
      " 0   Unnamed: 0  803 non-null    int64 \n",
      " 1   #           803 non-null    int64 \n",
      " 2   Name        799 non-null    object\n",
      " 3   HP          803 non-null    int64 \n",
      " 4   Attack      803 non-null    int64 \n",
      " 5   Defense     803 non-null    int64 \n",
      " 6   Sp. Atk     803 non-null    int64 \n",
      " 7   Sp. Def     803 non-null    int64 \n",
      " 8   Speed       803 non-null    int64 \n",
      " 9   Generation  803 non-null    int64 \n",
      " 10  Legendary   803 non-null    bool  \n",
      " 11  Version     803 non-null    object\n",
      " 12  Types       803 non-null    object\n",
      "dtypes: bool(1), int64(9), object(3)\n",
      "memory usage: 76.2+ KB\n",
      "None \n",
      "\n",
      "     Unnamed: 0    #      Name   HP  Attack  Defense  Sp. Atk  Sp. Def  Speed  \\\n",
      "798         798  662     Klang   60      80       95       70       85     50   \n",
      "799         799  578  Musharna  116      55       85      107       95     29   \n",
      "800         800    2       NaN   60      62       63       80       80     60   \n",
      "801         801  297    Seedot   40      40       50       30       30     30   \n",
      "802         802  253  Porygon2   85      80       90      105       95     60   \n",
      "\n",
      "     Generation  Legendary  Version         Types  \n",
      "798           5      False  Patch 1         Steel  \n",
      "799           5      False  Patch 1       Psychic  \n",
      "800           1      False  Patch 1  Grass-Poison  \n",
      "801           3      False  Patch 1         Grass  \n",
      "802           2      False  Patch 1        Normal   \n",
      "\n",
      "       Unnamed: 0           #          HP      Attack     Defense     Sp. Atk  \\\n",
      "count  803.000000  803.000000  803.000000  803.000000  803.000000  803.000000   \n",
      "mean   401.000000  402.732254   72.175592   82.438356   77.298879   76.280199   \n",
      "std    231.950426  233.518088   54.105769   64.836623   64.486387   65.295625   \n",
      "min      0.000000    1.000000    1.000000    5.000000    5.000000   10.000000   \n",
      "25%    200.500000  201.500000   50.000000   55.000000   50.000000   50.000000   \n",
      "50%    401.000000  402.000000   65.000000   75.000000   70.000000   65.000000   \n",
      "75%    601.500000  602.500000   80.000000  100.000000   90.000000   95.000000   \n",
      "max    802.000000  999.000000  900.000000  999.000000  999.000000  999.000000   \n",
      "\n",
      "          Sp. Def       Speed  Generation  \n",
      "count  803.000000  803.000000  803.000000  \n",
      "mean    74.809465   71.198007    3.315068  \n",
      "std     55.082186   55.900980    1.664237  \n",
      "min     20.000000    5.000000    1.000000  \n",
      "25%     50.000000   45.000000    2.000000  \n",
      "50%     70.000000   65.000000    3.000000  \n",
      "75%     90.000000   90.000000    5.000000  \n",
      "max    900.000000  900.000000    6.000000   \n",
      "\n",
      "Number of unique types = 157\n"
     ]
    }
   ],
   "source": [
    "print(df_pokemon.info(), \"\\n\")\n",
    "print(df_pokemon.tail(), \"\\n\")\n",
    "print(df_pokemon.describe(), \"\\n\")\n",
    "print(f\"Number of unique types = {df_pokemon['Types'].nunique()}\")"
   ]
  },
  {
   "cell_type": "markdown",
   "metadata": {},
   "source": [
    "There are some observations that can be made based on these data:\n",
    "- There appear to be some weird values, 900 HP seems a bit much, we should probably look into that. \n",
    "\n",
    "- We also have no idea how many missing values are present in each column. \n",
    "\n",
    "- There is some whitespace in the column-names. It would be nice to remove those so we don't hit any errors related to that.\n",
    "\n",
    "### Assignment 2: setting the index\n",
    "\n",
    "Let's set a more sensible index first and let's make sure we have our DataFrame sorted. \n",
    "\n",
    "- **Set the # column as the index for your DataFrame.**\n",
    "\n",
    "- **Sort the DataFrame by your index (look up ``.sort_index()``) and print the first 10 rows.**\n",
    "\n",
    "You should get something like this"
   ]
  },
  {
   "cell_type": "code",
   "execution_count": 6,
   "metadata": {
    "scrolled": true,
    "tags": [
     "hide-input"
    ]
   },
   "outputs": [
    {
     "data": {
      "application/vnd.microsoft.datawrangler.viewer.v0+json": {
       "columns": [
        {
         "name": "#",
         "rawType": "int64",
         "type": "integer"
        },
        {
         "name": "Name",
         "rawType": "object",
         "type": "unknown"
        },
        {
         "name": "HP",
         "rawType": "int64",
         "type": "integer"
        },
        {
         "name": "Attack",
         "rawType": "int64",
         "type": "integer"
        },
        {
         "name": "Defense",
         "rawType": "int64",
         "type": "integer"
        },
        {
         "name": "Sp. Atk",
         "rawType": "int64",
         "type": "integer"
        },
        {
         "name": "Sp. Def",
         "rawType": "int64",
         "type": "integer"
        },
        {
         "name": "Speed",
         "rawType": "int64",
         "type": "integer"
        },
        {
         "name": "Generation",
         "rawType": "int64",
         "type": "integer"
        },
        {
         "name": "Legendary",
         "rawType": "bool",
         "type": "boolean"
        },
        {
         "name": "Version",
         "rawType": "object",
         "type": "string"
        },
        {
         "name": "Types",
         "rawType": "object",
         "type": "string"
        }
       ],
       "conversionMethod": "pd.DataFrame",
       "ref": "5210b39c-75df-4a35-94e5-a5c901fc4b76",
       "rows": [
        [
         "1",
         null,
         "45",
         "49",
         "49",
         "65",
         "65",
         "45",
         "1",
         "False",
         "Patch 1",
         "Grass-Poison"
        ],
        [
         "2",
         null,
         "60",
         "62",
         "63",
         "80",
         "80",
         "60",
         "1",
         "False",
         "Patch 1",
         "Grass-Poison"
        ],
        [
         "3",
         null,
         "80",
         "82",
         "83",
         "100",
         "100",
         "80",
         "1",
         "False",
         "Patch 1",
         "Grass-Poison"
        ],
        [
         "4",
         "Mega Venusaur",
         "80",
         "100",
         "123",
         "122",
         "120",
         "80",
         "1",
         "False",
         "Patch 1",
         "Grass-Poison"
        ],
        [
         "5",
         "Charmander",
         "39",
         "52",
         "43",
         "60",
         "50",
         "65",
         "1",
         "False",
         "Patch 1",
         "Fire"
        ],
        [
         "6",
         "Charmeleon",
         "58",
         "64",
         "58",
         "80",
         "65",
         "80",
         "1",
         "False",
         "Patch 1",
         "Fire"
        ],
        [
         "7",
         "Charizard",
         "78",
         "84",
         "78",
         "109",
         "85",
         "100",
         "1",
         "False",
         "Patch 1",
         "Fire-Flying"
        ],
        [
         "8",
         "Mega Charizard X",
         "78",
         "130",
         "111",
         "130",
         "85",
         "100",
         "1",
         "False",
         "Patch 1",
         "Fire-Dragon"
        ],
        [
         "9",
         "Mega Charizard Y",
         "78",
         "104",
         "78",
         "159",
         "115",
         "100",
         "1",
         "False",
         "Patch 1",
         "Fire-Flying"
        ],
        [
         "10",
         "Squirtle",
         "44",
         "48",
         "65",
         "50",
         "64",
         "43",
         "1",
         "False",
         "Patch 1",
         "Water"
        ]
       ],
       "shape": {
        "columns": 11,
        "rows": 10
       }
      },
      "text/html": [
       "<div>\n",
       "<style scoped>\n",
       "    .dataframe tbody tr th:only-of-type {\n",
       "        vertical-align: middle;\n",
       "    }\n",
       "\n",
       "    .dataframe tbody tr th {\n",
       "        vertical-align: top;\n",
       "    }\n",
       "\n",
       "    .dataframe thead th {\n",
       "        text-align: right;\n",
       "    }\n",
       "</style>\n",
       "<table border=\"1\" class=\"dataframe\">\n",
       "  <thead>\n",
       "    <tr style=\"text-align: right;\">\n",
       "      <th></th>\n",
       "      <th>Name</th>\n",
       "      <th>HP</th>\n",
       "      <th>Attack</th>\n",
       "      <th>Defense</th>\n",
       "      <th>Sp. Atk</th>\n",
       "      <th>Sp. Def</th>\n",
       "      <th>Speed</th>\n",
       "      <th>Generation</th>\n",
       "      <th>Legendary</th>\n",
       "      <th>Version</th>\n",
       "      <th>Types</th>\n",
       "    </tr>\n",
       "    <tr>\n",
       "      <th>#</th>\n",
       "      <th></th>\n",
       "      <th></th>\n",
       "      <th></th>\n",
       "      <th></th>\n",
       "      <th></th>\n",
       "      <th></th>\n",
       "      <th></th>\n",
       "      <th></th>\n",
       "      <th></th>\n",
       "      <th></th>\n",
       "      <th></th>\n",
       "    </tr>\n",
       "  </thead>\n",
       "  <tbody>\n",
       "    <tr>\n",
       "      <th>1</th>\n",
       "      <td>NaN</td>\n",
       "      <td>45</td>\n",
       "      <td>49</td>\n",
       "      <td>49</td>\n",
       "      <td>65</td>\n",
       "      <td>65</td>\n",
       "      <td>45</td>\n",
       "      <td>1</td>\n",
       "      <td>False</td>\n",
       "      <td>Patch 1</td>\n",
       "      <td>Grass-Poison</td>\n",
       "    </tr>\n",
       "    <tr>\n",
       "      <th>2</th>\n",
       "      <td>NaN</td>\n",
       "      <td>60</td>\n",
       "      <td>62</td>\n",
       "      <td>63</td>\n",
       "      <td>80</td>\n",
       "      <td>80</td>\n",
       "      <td>60</td>\n",
       "      <td>1</td>\n",
       "      <td>False</td>\n",
       "      <td>Patch 1</td>\n",
       "      <td>Grass-Poison</td>\n",
       "    </tr>\n",
       "    <tr>\n",
       "      <th>3</th>\n",
       "      <td>NaN</td>\n",
       "      <td>80</td>\n",
       "      <td>82</td>\n",
       "      <td>83</td>\n",
       "      <td>100</td>\n",
       "      <td>100</td>\n",
       "      <td>80</td>\n",
       "      <td>1</td>\n",
       "      <td>False</td>\n",
       "      <td>Patch 1</td>\n",
       "      <td>Grass-Poison</td>\n",
       "    </tr>\n",
       "    <tr>\n",
       "      <th>4</th>\n",
       "      <td>Mega Venusaur</td>\n",
       "      <td>80</td>\n",
       "      <td>100</td>\n",
       "      <td>123</td>\n",
       "      <td>122</td>\n",
       "      <td>120</td>\n",
       "      <td>80</td>\n",
       "      <td>1</td>\n",
       "      <td>False</td>\n",
       "      <td>Patch 1</td>\n",
       "      <td>Grass-Poison</td>\n",
       "    </tr>\n",
       "    <tr>\n",
       "      <th>5</th>\n",
       "      <td>Charmander</td>\n",
       "      <td>39</td>\n",
       "      <td>52</td>\n",
       "      <td>43</td>\n",
       "      <td>60</td>\n",
       "      <td>50</td>\n",
       "      <td>65</td>\n",
       "      <td>1</td>\n",
       "      <td>False</td>\n",
       "      <td>Patch 1</td>\n",
       "      <td>Fire</td>\n",
       "    </tr>\n",
       "    <tr>\n",
       "      <th>6</th>\n",
       "      <td>Charmeleon</td>\n",
       "      <td>58</td>\n",
       "      <td>64</td>\n",
       "      <td>58</td>\n",
       "      <td>80</td>\n",
       "      <td>65</td>\n",
       "      <td>80</td>\n",
       "      <td>1</td>\n",
       "      <td>False</td>\n",
       "      <td>Patch 1</td>\n",
       "      <td>Fire</td>\n",
       "    </tr>\n",
       "    <tr>\n",
       "      <th>7</th>\n",
       "      <td>Charizard</td>\n",
       "      <td>78</td>\n",
       "      <td>84</td>\n",
       "      <td>78</td>\n",
       "      <td>109</td>\n",
       "      <td>85</td>\n",
       "      <td>100</td>\n",
       "      <td>1</td>\n",
       "      <td>False</td>\n",
       "      <td>Patch 1</td>\n",
       "      <td>Fire-Flying</td>\n",
       "    </tr>\n",
       "    <tr>\n",
       "      <th>8</th>\n",
       "      <td>Mega Charizard X</td>\n",
       "      <td>78</td>\n",
       "      <td>130</td>\n",
       "      <td>111</td>\n",
       "      <td>130</td>\n",
       "      <td>85</td>\n",
       "      <td>100</td>\n",
       "      <td>1</td>\n",
       "      <td>False</td>\n",
       "      <td>Patch 1</td>\n",
       "      <td>Fire-Dragon</td>\n",
       "    </tr>\n",
       "    <tr>\n",
       "      <th>9</th>\n",
       "      <td>Mega Charizard Y</td>\n",
       "      <td>78</td>\n",
       "      <td>104</td>\n",
       "      <td>78</td>\n",
       "      <td>159</td>\n",
       "      <td>115</td>\n",
       "      <td>100</td>\n",
       "      <td>1</td>\n",
       "      <td>False</td>\n",
       "      <td>Patch 1</td>\n",
       "      <td>Fire-Flying</td>\n",
       "    </tr>\n",
       "    <tr>\n",
       "      <th>10</th>\n",
       "      <td>Squirtle</td>\n",
       "      <td>44</td>\n",
       "      <td>48</td>\n",
       "      <td>65</td>\n",
       "      <td>50</td>\n",
       "      <td>64</td>\n",
       "      <td>43</td>\n",
       "      <td>1</td>\n",
       "      <td>False</td>\n",
       "      <td>Patch 1</td>\n",
       "      <td>Water</td>\n",
       "    </tr>\n",
       "  </tbody>\n",
       "</table>\n",
       "</div>"
      ],
      "text/plain": [
       "                Name  HP  Attack  Defense  Sp. Atk  Sp. Def  Speed  \\\n",
       "#                                                                    \n",
       "1                NaN  45      49       49       65       65     45   \n",
       "2                NaN  60      62       63       80       80     60   \n",
       "3                NaN  80      82       83      100      100     80   \n",
       "4      Mega Venusaur  80     100      123      122      120     80   \n",
       "5         Charmander  39      52       43       60       50     65   \n",
       "6         Charmeleon  58      64       58       80       65     80   \n",
       "7          Charizard  78      84       78      109       85    100   \n",
       "8   Mega Charizard X  78     130      111      130       85    100   \n",
       "9   Mega Charizard Y  78     104       78      159      115    100   \n",
       "10          Squirtle  44      48       65       50       64     43   \n",
       "\n",
       "    Generation  Legendary  Version         Types  \n",
       "#                                                 \n",
       "1            1      False  Patch 1  Grass-Poison  \n",
       "2            1      False  Patch 1  Grass-Poison  \n",
       "3            1      False  Patch 1  Grass-Poison  \n",
       "4            1      False  Patch 1  Grass-Poison  \n",
       "5            1      False  Patch 1          Fire  \n",
       "6            1      False  Patch 1          Fire  \n",
       "7            1      False  Patch 1   Fire-Flying  \n",
       "8            1      False  Patch 1   Fire-Dragon  \n",
       "9            1      False  Patch 1   Fire-Flying  \n",
       "10           1      False  Patch 1         Water  "
      ]
     },
     "execution_count": 6,
     "metadata": {},
     "output_type": "execute_result"
    }
   ],
   "source": [
    "df_pokemon.drop('Unnamed: 0', axis=1, inplace=True)\n",
    "df_pokemon.set_index(\"#\", inplace=True)\n",
    "df_pokemon.sort_index(inplace=True)\n",
    "df_pokemon.head(10)"
   ]
  },
  {
   "cell_type": "markdown",
   "metadata": {},
   "source": [
    "With the Pokemon number (not exactly the pokemon number as it also includes the megavolutions) as the index and the Pokemon sorted by number the DataFrame already looks a lot nicer. Minus the Mega versions of Pokemon most of these names should ring a bell if you watched the anime as a kid. It appears the first three names are missing (you could also tell that from the ``.info()``). We should find out if there are more missing values!\n",
    "\n",
    "### Assignment 3: whitespaces and missing values\n",
    "\n",
    "Let's tackle the first two problems (weird and missing values). \n",
    "\n",
    "First we should have a look if we have missing data. To do so we can use the ``.isnull()`` method. This method returns a DataFrame with True if the data is missing and false if the data is not missing. We can then use ``.sum()`` (remember that False is 0 and True is 1) to find out how many missing values we have.\n",
    "\n",
    "- **Please remove the whitespaces in the column names**\n",
    "- **See how many missing values we have per column, please make use of method chaining**\n",
    "\n",
    "You should get something like this:"
   ]
  },
  {
   "cell_type": "code",
   "execution_count": 7,
   "metadata": {
    "scrolled": true,
    "tags": [
     "hide-input"
    ]
   },
   "outputs": [
    {
     "name": "stdout",
     "output_type": "stream",
     "text": [
      "Name          4\n",
      "HP            0\n",
      "Attack        0\n",
      "Defense       0\n",
      "Sp.Atk        0\n",
      "Sp.Def        0\n",
      "Speed         0\n",
      "Generation    0\n",
      "Legendary     0\n",
      "Version       0\n",
      "Types         0\n",
      "dtype: int64\n"
     ]
    }
   ],
   "source": [
    "df_pokemon.columns = df_pokemon.columns.str.replace(\" \", \"\")\n",
    "print(df_pokemon.isnull().sum())"
   ]
  },
  {
   "cell_type": "markdown",
   "metadata": {},
   "source": [
    "Apparently we are missing some names here. \n",
    "````{margin}\n",
    "```{admonition} Tip\n",
    ":class: tip\n",
    "Use a boolean array where the ``.isnull()`` values are True\n",
    "```\n",
    "````\n",
    "- **Print out the rows where the names are missing.**\n",
    "\n",
    "You should get something like this:"
   ]
  },
  {
   "cell_type": "code",
   "execution_count": 8,
   "metadata": {
    "tags": [
     "hide-input"
    ]
   },
   "outputs": [
    {
     "name": "stdout",
     "output_type": "stream",
     "text": [
      "   Name  HP  Attack  Defense  Sp.Atk  Sp.Def  Speed  Generation  Legendary  \\\n",
      "#                                                                            \n",
      "1   NaN  45      49       49      65      65     45           1      False   \n",
      "2   NaN  60      62       63      80      80     60           1      False   \n",
      "3   NaN  80      82       83     100     100     80           1      False   \n",
      "63  NaN  65     105       60      60      70     95           1      False   \n",
      "\n",
      "    Version         Types  \n",
      "#                          \n",
      "1   Patch 1  Grass-Poison  \n",
      "2   Patch 1  Grass-Poison  \n",
      "3   Patch 1  Grass-Poison  \n",
      "63  Patch 1      Fighting   \n",
      "\n",
      "\n",
      "   Name  HP  Attack  Defense  Sp.Atk  Sp.Def  Speed  Generation  Legendary  \\\n",
      "#                                                                            \n",
      "1   NaN  45      49       49      65      65     45           1      False   \n",
      "2   NaN  60      62       63      80      80     60           1      False   \n",
      "3   NaN  80      82       83     100     100     80           1      False   \n",
      "63  NaN  65     105       60      60      70     95           1      False   \n",
      "\n",
      "    Version         Types  \n",
      "#                          \n",
      "1   Patch 1  Grass-Poison  \n",
      "2   Patch 1  Grass-Poison  \n",
      "3   Patch 1  Grass-Poison  \n",
      "63  Patch 1      Fighting  \n"
     ]
    }
   ],
   "source": [
    "print(df_pokemon[df_pokemon[\"Name\"].isnull() == True], \"\\n\\n\")  # OR\n",
    "\n",
    "print(df_pokemon[df_pokemon[\"Name\"].isnull()])  # if not specified, it only selects the True's"
   ]
  },
  {
   "cell_type": "markdown",
   "metadata": {},
   "source": [
    "It appears we only miss the first three Pokemon and the Pokemon on number 63. We could drop them with ``.dropna()`` but it is only very little work to fill these values. Number 63 appears to be \"Primape\", you should be able to find out what the first [three](https://en.wikipedia.org/wiki/List_of_generation_I_Pok%C3%A9mon#List_of_Pok%C3%A9mon) are.\n",
    "\n",
    "- **Fill in the NaNs. Check if we didn't miss anything.**\n",
    "\n",
    "You should get something like this:"
   ]
  },
  {
   "cell_type": "code",
   "execution_count": 9,
   "metadata": {
    "scrolled": true,
    "tags": [
     "hide-input"
    ]
   },
   "outputs": [
    {
     "name": "stdout",
     "output_type": "stream",
     "text": [
      "Name          0\n",
      "HP            0\n",
      "Attack        0\n",
      "Defense       0\n",
      "Sp.Atk        0\n",
      "Sp.Def        0\n",
      "Speed         0\n",
      "Generation    0\n",
      "Legendary     0\n",
      "Version       0\n",
      "Types         0\n",
      "dtype: int64\n"
     ]
    }
   ],
   "source": [
    "df_pokemon.loc[[1, 2, 3, 63], \"Name\"] = [\"Bulbasaur\", \"Ivysaur\", \"Venusaur\", \"Primeape\"]\n",
    "print(df_pokemon.isnull().sum())"
   ]
  },
  {
   "cell_type": "markdown",
   "metadata": {},
   "source": [
    "## Outliers\n",
    "\n",
    "In your data inspection you came across some extremely high values. These might be considered as outliers or maybe they were used as missing data in another statistical program (999). \n",
    "\n",
    "::::{important}\n",
    "Deciding whether to leave outliers or to drop them is a sensitive subject, so let's explore our outliers first a bit more with plotting.\n",
    "::::\n",
    "\n",
    "There are many different plotting libraries for Python. Each with their own advantages and disadvantages. Some are used for scientific publications, some are used for displaying figures in the browser, some for desktop applications, and some are just abstractions of other libraries to make for faster plotting or to emulate plotting behaviour of, for example, ggplot2. In the current practical, we will handle two plotting libraries:\n",
    "\n",
    "- For scientific publications the most important library to consider is [matplotlib](https://matplotlib.org/stable/tutorials/introductory/pyplot.html).\n",
    "\n",
    "- We will also consider [Seaborn](https://seaborn.pydata.org/). Seaborn is used for statistical plotting and has a lot of cool options! It an abstraction layer over matplotlib which means you can use matplotlib to interact with plots from Seaborn. \n",
    "\n",
    "- (Lastly, it is good to know that Pandas can also plot your data for you. The plots are usually less pretty but often quicker.  Pandas uses matplotlib under the hood so you can style plots from pandas using matplotlib functions. We will not handle this kind of plotting but you can read the [docs](https://pandas.pydata.org/docs/reference/api/pandas.DataFrame.plot.html) and are free to use it.)\n",
    "\n",
    "\n",
    "<img src=\"https://matplotlib.org/_images/anatomy1.png\" alt=\"Pokemon logo\" width=\"400\"/>\n",
    "\n",
    "Let's start with matplotlib, it works really intuitive so I will just give you an example of what is possible:\n",
    "\n",
    "```python\n",
    "x = np.linspace(0, 2, 100)  # create a variable to plot\n",
    "plt.figure()  # make a figure\n",
    "plt.plot(x, 2*x, label='line1')  # plot x (x-axis) vs 2x (y-axis)\n",
    "plt.plot(x, 3*x, label='line2', color='purple')  # plot some more data\n",
    "plt.xlabel('some text')  # give it a xlabel\n",
    "plt.ylabel('other text')  # give it a ylabel\n",
    "plt.title('This is my title')  # give it a title\n",
    "plt.legend()  # activate the legend\n",
    "```\n",
    "\n",
    "You can of course specify much more, but this is how this looks like:"
   ]
  },
  {
   "cell_type": "code",
   "execution_count": 10,
   "metadata": {
    "tags": [
     "remove-input"
    ]
   },
   "outputs": [
    {
     "data": {
      "image/png": "[encoded data removed]",
      "text/plain": [
       "<Figure size 640x480 with 1 Axes>"
      ]
     },
     "metadata": {},
     "output_type": "display_data"
    }
   ],
   "source": [
    "plt.style.use('default')\n",
    "x = np.linspace(0, 2, 100)  # create a variable to plot\n",
    "plt.figure()  # make a figure\n",
    "plt.plot(x, 2*x, label='line1')  # plot x (x-axis) vs 2x (y-axis)\n",
    "plt.plot(x, 3*x, label='line2', color='purple')  # plot some more data\n",
    "plt.xlabel('some text')  # give it an xlabel\n",
    "plt.ylabel('other text')  # give it an ylabel\n",
    "plt.title('This is my title')  # give it a title\n",
    "plt.legend()  # activate the legend\n",
    "plt.show()"
   ]
  },
  {
   "cell_type": "markdown",
   "metadata": {},
   "source": [
    "Notice that we did not specify anything and the lines are in the same plot. If you want a new figure, simply make a new figure with plt.figure. Line plots are the default in .plot() but besides line-plots, matplotlib provides us with many more options, for example:\n",
    "\n",
    "- ``plt.hist()``\n",
    "- ``plt.scatter()``\n",
    "- ``plt.boxplot()``\n",
    "- ``plt.bar()``\n",
    "- and more..\n",
    "\n",
    "### Assignment 4: Plotting outliers\n",
    "\n",
    "Now it is your turn, let's do some plotting!\n",
    "````{margin}\n",
    "```{admonition} Tip\n",
    ":class: tip\n",
    "First reset the index of df_pokemon\n",
    "```\n",
    "````\n",
    "- **Pick a plot [style](https://matplotlib.org/3.2.1/gallery/style_sheets/style_sheets_reference.html) and set the style with ``plt.style.use()``.** \n",
    "\n",
    "- **Plot a scatter plot of # vs HP. Specify the label and color parameter**\n",
    "\n",
    "- **Plot another scatter plot in the same plot of # vs Attack and # vs Defense. Make sure to define unique colors and labels**\n",
    "\n",
    "- **Add a xlabel and ylabel with fontsize 12. Look in the docs how to specify parameters** \n",
    "\n",
    "- **Add a title with fontsize = 20 and use bold font.**\n",
    "\n",
    "- **Add a legend. Give the legend a title and make sure there is a frame around the legend.**\n",
    "\n",
    "You should get something like this:\n",
    "You might need to call ``plt.show()`` to display the results of your efforts.\n"
   ]
  },
  {
   "cell_type": "code",
   "execution_count": 11,
   "metadata": {
    "tags": [
     "hide-input"
    ]
   },
   "outputs": [
    {
     "data": {
      "image/png": "[encoded data removed]",
      "text/plain": [
       "<Figure size 640x480 with 1 Axes>"
      ]
     },
     "metadata": {},
     "output_type": "display_data"
    }
   ],
   "source": [
    "plt.style.use(\"seaborn-v0_8-whitegrid\")\n",
    "df_pokemon.reset_index(inplace=True)\n",
    "plt.figure()\n",
    "plt.scatter(df_pokemon[\"#\"], df_pokemon[\"HP\"], color=\"C0\", label=\"HP\")\n",
    "plt.scatter(df_pokemon[\"#\"], df_pokemon[\"Attack\"], color=\"C1\", label=\"Attack\")\n",
    "plt.scatter(df_pokemon[\"#\"], df_pokemon[\"Defense\"], color=\"C2\", label=\"Defense\")\n",
    "plt.xlabel(\"Pokemon number\", fontsize=12)\n",
    "plt.ylabel(\"Stat value\", fontsize=12)\n",
    "plt.title('Pokemon Stats', fontsize=20, weight='bold')\n",
    "plt.legend(title='stats:', frameon=True)\n",
    "plt.show()"
   ]
  },
  {
   "cell_type": "markdown",
   "metadata": {},
   "source": [
    "You made your first plot! As you can see, we clearly have some outliers that we should deal with! We could remove outliers above 400 but for the sake of the exercise, let's assume you want to drop values higher or lower than 2.5 standard deviations from the mean. First, we would have to z-transform our data. Remember the z-distribution below?\n",
    "\n",
    "<img src=\"https://upload.wikimedia.org/wikipedia/commons/2/25/The_Normal_Distribution.svg\" alt=\"Pokemon logo\" width=\"600\"/>\n",
    "\n",
    "Feature scaling through standardization (or Z-score normalization) can be an important preprocessing step for many machine learning algorithms. Standardization involves rescaling the features such that they have the properties of a standard normal distribution with a mean of zero and a standard deviation of one.\n",
    "\n",
    "While many algorithms (such as SVM, K-nearest neighbors, and logistic regression) require features to be normalized, intuitively we can think of Principle Component Analysis (PCA) as being a prime example of when normalization is important. In PCA we are interested in the components that maximize the variance. If one component (e.g. human height) varies less than another (e.g. weight) because of their respective scales (meters vs. kilos), PCA might determine that the direction of maximal variance more closely corresponds with the ‘weight’ axis, if those features are not scaled. As a change in height of one meter can be considered much more important than the change in weight of one kilogram, this is clearly incorrect.\n",
    "\n",
    "Z-score normalization is extremely sensitive to outliers, but we can also use it to detect outliers, as we will do in the next exercise. Seems reasonable right? Currently, the distribution of our data looks like this (ouch!):"
   ]
  },
  {
   "cell_type": "code",
   "execution_count": 12,
   "metadata": {
    "scrolled": true,
    "tags": [
     "remove-input"
    ]
   },
   "outputs": [
    {
     "data": {
      "image/png": "[encoded data removed]",
      "text/plain": [
       "<Figure size 500x500 with 1 Axes>"
      ]
     },
     "metadata": {},
     "output_type": "display_data"
    }
   ],
   "source": [
    "with sns.axes_style(\"darkgrid\"):\n",
    "    sns.displot(df_pokemon[\"HP\"], kde=True, rug=True, bins=50)"
   ]
  },
  {
   "cell_type": "markdown",
   "metadata": {},
   "source": [
    "### Assignment 5: normalize data\n",
    "\n",
    "You should be able to normalize some values by hand. The formula is pretty simple: you take the values in a column and subtract the mean and then divide that by the standard deviation. You might remember that ``.mean()`` and ``.std()`` are readily available on a Pandas object. Below are the columns you want to normalize and create new standardized columns like \"HP_z\", \"Attack_z\" etc.\n",
    "\n",
    "```python\n",
    "to_norm_cols = [\"HP\", \"Attack\", \"Defense\", \"Sp.Atk\", \"Sp.Def\", \"Speed\"]  # list of columns we want to normalize\n",
    "```\n",
    "\n",
    "- **Calculate the z-score for HP and assign it to HP_z**\n",
    "- **Now do the same for all 'to_norm_cols'. Remember that we do not like code repetition.**\n",
    "````{margin}\n",
    "```{admonition} Tip\n",
    ":class: tip\n",
    "Play around with the bins parameter, it needs to be relatively high with the current distribution (due to the outliers).\n",
    "```\n",
    "````\n",
    "- **Make a histogram plot of HP_z and make sure to specifiy the 'bins' parameters, what does it do?.**\n",
    "- **Give your plot a xlabel, ylabel and a title**\n",
    "\n",
    "You should get something like this:"
   ]
  },
  {
   "cell_type": "code",
   "execution_count": 13,
   "metadata": {
    "tags": [
     "hide-input"
    ]
   },
   "outputs": [
    {
     "name": "stdout",
     "output_type": "stream",
     "text": [
      "   #           Name  HP  Attack  Defense  Sp.Atk  Sp.Def  Speed  Generation  \\\n",
      "0  1      Bulbasaur  45      49       49      65      65     45           1   \n",
      "1  2        Ivysaur  60      62       63      80      80     60           1   \n",
      "2  3       Venusaur  80      82       83     100     100     80           1   \n",
      "3  4  Mega Venusaur  80     100      123     122     120     80           1   \n",
      "4  5     Charmander  39      52       43      60      50     65           1   \n",
      "\n",
      "   Legendary  Version         Types      HP_z  Attack_z  Defense_z  Sp.Atk_z  \\\n",
      "0      False  Patch 1  Grass-Poison -0.502268 -0.515733  -0.438835 -0.172756   \n",
      "1      False  Patch 1  Grass-Poison -0.225033 -0.315229  -0.221735  0.056969   \n",
      "2      False  Patch 1  Grass-Poison  0.144613 -0.006761   0.088408  0.363268   \n",
      "3      False  Patch 1  Grass-Poison  0.144613  0.270860   0.708694  0.700197   \n",
      "4      False  Patch 1          Fire -0.613162 -0.469462  -0.531878 -0.249331   \n",
      "\n",
      "   Sp.Def_z   Speed_z  \n",
      "0 -0.178088 -0.468650  \n",
      "1  0.094233 -0.200319  \n",
      "2  0.457326  0.157457  \n",
      "3  0.820420  0.157457  \n",
      "4 -0.450408 -0.110875  \n"
     ]
    },
    {
     "data": {
      "image/png": "[encoded data removed]",
      "text/plain": [
       "<Figure size 640x480 with 1 Axes>"
      ]
     },
     "metadata": {},
     "output_type": "display_data"
    }
   ],
   "source": [
    "df_pokemon['HP_z'] = (df_pokemon[\"HP\"] - df_pokemon[\"HP\"].mean()) / df_pokemon[\"HP\"].std()\n",
    "\n",
    "to_norm_cols = [\"HP\", \"Attack\", \"Defense\", \"Sp.Atk\", \"Sp.Def\", \"Speed\"]\n",
    "for col in to_norm_cols:\n",
    "    df_pokemon[col + '_z'] = (df_pokemon[col] - df_pokemon[col].mean()) / df_pokemon[col].std()  # z-transform\n",
    "\n",
    "print(df_pokemon.head())\n",
    "\n",
    "plt.hist(df_pokemon['HP_z'], bins=100)  # if you don't specify plt.figure() and you dont have an active figure, it gives you a new figure\n",
    "plt.title('Histogram of HP_z')\n",
    "plt.xlabel('HP_z')\n",
    "plt.ylabel('Frequency')\n",
    "plt.show()\n"
   ]
  },
  {
   "cell_type": "markdown",
   "metadata": {},
   "source": [
    "### Assignment 6: identify outliers\n",
    "\n",
    "Better already, as you can see the data is now centered around 0 with a standard deviation of 1 (test this for yourself). Before we get rid of the outliers, let's inspect these outliers!\n",
    "````{margin}\n",
    "```{admonition} Tip\n",
    ":class: tip\n",
    "Use a boolean array ``df_pokemon[target_cols].abs() > 2.5``, also use the ``.any()`` and ``.all()`` methods with axis=1. \n",
    "```\n",
    "````\n",
    "- **Select the rows where the z-score is lower than 2.5 and higher than -2.5 in ANY standardized column. Print the names of these outliers. Try to use method chaining.**\n",
    "\n",
    "- **Select the rows where the z-score is lower than 2.5 and higher than -2.5 in ALL standardized columns. Print the names of these outliers. Try to use method chaining.**\n",
    "\n",
    "You should get something like this"
   ]
  },
  {
   "cell_type": "code",
   "execution_count": 14,
   "metadata": {
    "scrolled": true,
    "tags": [
     "hide-input"
    ]
   },
   "outputs": [
    {
     "name": "stdout",
     "output_type": "stream",
     "text": [
      "121       Chansey\n",
      "230       Shuckle\n",
      "261       Blissey\n",
      "800    L. Forcher\n",
      "801     R. Jansen\n",
      "802      M. Kempe\n",
      "Name: Name, dtype: object\n",
      "800    L. Forcher\n",
      "801     R. Jansen\n",
      "802      M. Kempe\n",
      "Name: Name, dtype: object\n"
     ]
    }
   ],
   "source": [
    "target_cols = [\"HP_z\", \"Attack_z\", \"Defense_z\", \"Sp.Atk_z\", \"Sp.Def_z\", \"Speed_z\"]\n",
    "any_outlier = df_pokemon[(df_pokemon[target_cols].abs() > 2.5).any(axis=1)]\n",
    "all_outlier = df_pokemon[(df_pokemon[target_cols].abs() > 2.5).all(axis=1)]\n",
    "print(any_outlier[\"Name\"])    \n",
    "print(all_outlier[\"Name\"])"
   ]
  },
  {
   "cell_type": "markdown",
   "metadata": {},
   "source": [
    "So we identified our outliers, the next step is to see where they are in our just made scatterplot. The bad thing about interactive plotting (what you did in assignment 5) is that it is not possible to get back to your plot afterwards, we did not store it. Interactive plotting is fast and useful for data inspecting. However, object-oriented is often more convenient and looks really similar. Let's remake the scatterplot for HP:\n",
    "\n",
    "``` python\n",
    "fig, ax = plt.subplots()  # you made a figure and assigned 'fig' to the figure and 'ax' to the axis object\n",
    "ax.scatter(df_pokemon[\"#\"], df_pokemon[\"HP\"], color=\"C0\", label=\"HP\")  # we want to plot on the axis object\n",
    "ax.set_xlabel(\"Pokemon number\", fontsize=12)  # note that this code is slightly different (plt.xlabel() vs ax.set_xlabel())\n",
    "ax.set_ylabel(\"Stat value\", fontsize=12)\n",
    "ax.set_title('Pokemon Stats', fontsize=20, weight='bold')\n",
    "ax.legend(title='stats:', frameon=True)\n",
    "```\n",
    "\n",
    "So we have our figure back, now we can annotate our outliers in the plot\n",
    "\n",
    "### Assignment 7: annotate outliers in plot\n",
    "\n",
    "- **Make a scatterplot for \"HP\" vs \"#\" for all pokemons, using object-oriented plotting**\n",
    "- **Make a scatterplot for \"HP\" vs \"#\" for any outlier, in the same figure but in a different color, still using object-oriented plotting**\n",
    "- **Look up the documentation for ax.text(). Add the name of M. Kempe to the figure at his x and y coordinates**\n",
    "````{margin}\n",
    "```{admonition} Tip\n",
    ":class: tip\n",
    "Look at ``df.iterrows()`` which let you run through every row\n",
    "```\n",
    "````\n",
    "- **Do the same for the other outliers from any_outlier, remember we do not like repetition.**"
   ]
  },
  {
   "cell_type": "code",
   "execution_count": 15,
   "metadata": {
    "tags": [
     "hide-input"
    ]
   },
   "outputs": [
    {
     "data": {
      "image/png": "[encoded data removed]",
      "text/plain": [
       "<Figure size 640x480 with 1 Axes>"
      ]
     },
     "metadata": {},
     "output_type": "display_data"
    }
   ],
   "source": [
    "fig, ax = plt.subplots()\n",
    "ax.scatter(df_pokemon[\"#\"], df_pokemon[\"HP\"], color=\"C0\", label=\"HP\")\n",
    "ax.set_xlabel(\"Pokemon number\", fontsize=12)\n",
    "ax.set_ylabel(\"Stat value\", fontsize=12)\n",
    "ax.set_title('Pokemon Stats', fontsize=20, weight='bold')\n",
    "ax.legend()\n",
    "\n",
    "ax.scatter(any_outlier[\"#\"], any_outlier[\"HP\"], color=\"C1\")\n",
    "\n",
    "Mkempe = all_outlier.set_index('Name').loc['M. Kempe', :]\n",
    "ax.text(Mkempe[\"#\"], Mkempe[\"HP\"], 'M. Kempe')\n",
    "for index, row in any_outlier.iterrows():\n",
    "    ax.text(row[\"#\"], row[\"HP\"], row[\"Name\"])"
   ]
  },
  {
   "cell_type": "markdown",
   "metadata": {},
   "source": [
    "### Assignment 8: dropping outliers\n",
    "\n",
    "It appears they were not outliers after all. What actually happened is that the stats for the lecturers got entered into the dataset. No problem, you can just drop those rows. Remember how to use drop?\n",
    "````{margin}\n",
    "```{admonition} Tip\n",
    ":class: tip\n",
    "This is one of those cases where it's nice to have an index! Get the index labels from your slice with ``.index``. \n",
    "```\n",
    "````\n",
    "- **Drop the rows containing outliers in all specified columns.**"
   ]
  },
  {
   "cell_type": "code",
   "execution_count": 16,
   "metadata": {
    "tags": [
     "hide-input"
    ]
   },
   "outputs": [],
   "source": [
    "df_pokemon.drop(all_outlier.index, inplace=True)"
   ]
  },
  {
   "cell_type": "markdown",
   "metadata": {},
   "source": [
    "This would be the moment when I tell you there is actually a function that can z-transform your data. We need to repeat the process anyways as we have deleted some of our data and need to rescale to our new DataFrame. Most normalization procedures are very sensitive to outliers so it's a good thing that we got rid of them. ``sklearn`` provides two convenient ways to scale your data. You either use the scale function from the preprocessing library or you use the richer StandardScaler utility class. Either way you want to import both:\n",
    "```python\n",
    "from sklearn.preprocessing import scale\n",
    "from sklearn.preprocessing import StandardScaler\n",
    "```\n",
    "With scale you can just plug in the array and you get an array back that we can assign to our DataFrame, as such:\n",
    "```python\n",
    "pokemon[target_cols] = scale(pokemon[to_norm_cols])\n",
    "```\n",
    "With the StandardScaler you need to use the ``.fit_transform`` method. As it is a utility class you can set a lot of parameters and it also has a few methods. [Classes](https://realpython.com/python3-object-oriented-programming/) are very useful, but maybe somewhat unfamiliar, for this course you just need to know how to use them. If we want to achieve the same thing as we did above we can just initialize the object using ``()`` (this basically \"spawns\" the object) and then immediately use the ``.fit_transform`` method, as such:\n",
    "\n",
    "```python\n",
    "pokemon[target_cols] = StandardScaler().fit_transform(pokemon[to_norm_cols])\n",
    "```\n",
    "Note that this does actually 2 things. First, it fits the data (e.g. finds the range, mean and standard deviation). Second, it actually transforms the data from its initual values to the z-scores. The same functionality can thus be obtained by the following lines:\n",
    "\n",
    "```python\n",
    "scaler = StandardScaler()\n",
    "scaler.fit(pokemon[to_norm_cols]) # fitting the data, note that scaler now saves the information about the data\n",
    "pokemon[target_cols] = scaler.transform(pokemon[to_norm_cols])\n",
    "```\n",
    "\n",
    "### Assignment 9: normalizing\n",
    "\n",
    "- **Normalize the ``to_norm_cols`` to the data that is left in the dataset.**\n",
    "- **Plot the results.**\n",
    "\n",
    "You should get something like this:"
   ]
  },
  {
   "cell_type": "code",
   "execution_count": 17,
   "metadata": {
    "scrolled": true,
    "tags": [
     "hide-input"
    ]
   },
   "outputs": [
    {
     "data": {
      "image/png": "[encoded data removed]",
      "text/plain": [
       "<Figure size 640x480 with 1 Axes>"
      ]
     },
     "metadata": {},
     "output_type": "display_data"
    }
   ],
   "source": [
    "from sklearn.preprocessing import scale\n",
    "from sklearn.preprocessing import StandardScaler\n",
    "\n",
    "# df_pokemon[target_cols] = scale(df_pokemon[to_norm_cols])  # alternatively use this one\n",
    "df_pokemon[target_cols] = StandardScaler().fit_transform(df_pokemon[to_norm_cols])\n",
    "plt.hist(x=df_pokemon['HP_z'], bins=30)\n",
    "plt.show()"
   ]
  },
  {
   "cell_type": "markdown",
   "metadata": {},
   "source": [
    "### Assignment 10: distribution\n",
    "\n",
    "This looks fine for now. Removing the outliers and then retransforming the dataset has quite a bit of impact on the z-scores. The current distribution does not look too troubling though. \n",
    "\n",
    "We can get a better grasp of the distribution by using [Kernel Density Estimation](https://en.wikipedia.org/wiki/Kernel_density_estimation). This is a way to estimate the probability density function (PDF) of a random variable in a non-parametric way. Have a look at Chapter 3 of Igual and Segui.\n",
    "\n",
    "- **From the ``scipy.stats`` module import ``guassian_kde``.**\n",
    "\n",
    "- **Calculate the kde function for HP using ``my_kde = gaussian_kde(data)``. What does it return? How do you use this?**\n",
    "\n",
    "- **Fit the function on the range of your data. e.g. ``my_kde(np.linspace(min, max, 200))``.**\n",
    "\n",
    "- **Plot a histogram of your data and add the kde on top of it.**\n",
    "\n",
    "- **Get the ``normaltest()`` function from the same module and test whether the HP is normally distributed.**\n",
    "\n",
    "You should get something like this:\n"
   ]
  },
  {
   "cell_type": "code",
   "execution_count": 18,
   "metadata": {
    "tags": [
     "hide-input"
    ]
   },
   "outputs": [
    {
     "name": "stdout",
     "output_type": "stream",
     "text": [
      "NormaltestResult(statistic=np.float64(304.5376025984999), pvalue=np.float64(7.421639067361935e-67))\n"
     ]
    },
    {
     "data": {
      "image/png": "[encoded data removed]",
      "text/plain": [
       "<Figure size 640x480 with 1 Axes>"
      ]
     },
     "metadata": {},
     "output_type": "display_data"
    }
   ],
   "source": [
    "from scipy.stats import gaussian_kde, normaltest\n",
    "\n",
    "hp = df_pokemon[\"HP_z\"]\n",
    "density = gaussian_kde(hp)\n",
    "xgrid = np.linspace(hp.min(), hp.max(), 200)\n",
    "plt.hist(hp, bins=30, density=True)\n",
    "plt.plot(xgrid, density(xgrid))\n",
    "\n",
    "plt.ylabel(\"Density\")\n",
    "plt.xlabel(\"Normalized HP\")\n",
    "\n",
    "print(normaltest(hp))\n",
    "plt.show()"
   ]
  },
  {
   "cell_type": "markdown",
   "metadata": {},
   "source": [
    "As we already told you, the seaborn library is more for statistical plotting so this would be a good moment to introduce Seaborn to you. Import seaborn on top of your script as sns and have a look at the different plots of [Seaborn](https://seaborn.pydata.org/index.html). Specifically the ``displot()``, look up the docs and find out what this plot does and what the parameters bins and kde do.\n",
    "\n",
    "- **Import Seaborn** \n",
    "- **Use sns.displot to create a similar figure to the one you produced before. That was a lot faster, right?**\n",
    "- **Give it an x and ylabel by using matplotlib.**"
   ]
  },
  {
   "cell_type": "code",
   "execution_count": 19,
   "metadata": {
    "scrolled": true,
    "tags": [
     "hide-input"
    ]
   },
   "outputs": [
    {
     "data": {
      "image/png": "[encoded data removed]",
      "text/plain": [
       "<Figure size 500x500 with 1 Axes>"
      ]
     },
     "metadata": {},
     "output_type": "display_data"
    }
   ],
   "source": [
    "sns.set_theme()\n",
    "sns.displot(hp, bins=30, kde=True)\n",
    "\n",
    "plt.xlabel(\"Normalized HP\")\n",
    "plt.ylabel(\"Density\")\n",
    "plt.show()"
   ]
  },
  {
   "cell_type": "markdown",
   "metadata": {},
   "source": [
    "## Calculations (intermediate)\n",
    "\n",
    "You inspected the data, the outliers and plotted the outcomes. Now it is time to make some interesting calculations! As you know, all pokemons have 2 special stats (special attack and special defense). I would like to combine them and calculate one special for every pokemon, independent of Legendary. For this special score we have to define our own function (Pandas does not have a ```.special()``` method) like we did in the pre-course assignment. ```.calc_special()``` takes three arguments: Sp.Atk (int), Sp.Def (int) and Legendary (bool).\n",
    "\n",
    "\n",
    "You multiply the Sp.Atk and Sp.Def with a coefficient:\n",
    "```python\n",
    "coef_leg = [4.1865, 5.7431]\n",
    "coef_not_leg = [3.4581, 4.6812]\n",
    "```\n",
    "\n",
    "The special formula is \n",
    "$special = \\frac{Sp.Atk * C_{1}^{3} + Sp.Def * C_{2}^{2}}{100}$\n",
    "\n",
    "Where $C_{1}$ refers to the first coefficient and $C_{2}$ to the second coefficient in the list.\n",
    "\n",
    "### Assignment 11: define function\n",
    "\n",
    "- **implement the special formula and check Charmander and Moltres if it worked and you get the same outcomes as us**\n",
    "\n",
    "Remember how to make a function? We will give you a head start:\n",
    "```python\n",
    "def calc_special(sp_atk, sp_def, legendary):\n",
    "    \"\"\"\n",
    "    A function to calculate the combined special stat.\n",
    "    \n",
    "    Args:\n",
    "        sp_atk (int): The value for the special attack.\n",
    "        sp_def (int): The value for the special defense.\n",
    "        legendary (bool): Whether the pokemon is legendary or not.\n",
    "    \n",
    "    Returns:\n",
    "        float: The combined special stat of the pokemon\n",
    "    \"\"\"\n",
    "    coeff_leg = [4.4581, 4.6812]\n",
    "    coeff_not_leg = [4.5253, 5.6831]\n",
    "    ...\n",
    "    ...\n",
    "    ...\n",
    "    return special\n",
    "```\n",
    "\n",
    "\n",
    "```{admonition} Tip\n",
    ":class: tip\n",
    "See the docstrings in the function? They clearly explain what the input should be, what the function does and what the output is of the function. Save your future self some time and **always** write docstrings for functions. \n",
    "```\n",
    "\n",
    "\n",
    "You should get something like this:"
   ]
  },
  {
   "cell_type": "code",
   "execution_count": 20,
   "metadata": {
    "tags": [
     "hide-input"
    ]
   },
   "outputs": [
    {
     "name": "stdout",
     "output_type": "stream",
     "text": [
      "Charmander has a special score of 71.75.\n",
      "Moltres has a special score of 129.38.\n"
     ]
    }
   ],
   "source": [
    "def calc_special(sp_atk, sp_def, legendary):\n",
    "    \"\"\"\n",
    "    A function to calculate the combined special stat.\n",
    "    \n",
    "    Args:\n",
    "        sp_atk (int): The value for the special attack.\n",
    "        sp_def (int): The value for the special defense.\n",
    "        legendary (bool): Whether the pokemon is legendary or not.\n",
    "    \n",
    "    Returns:\n",
    "        float: The combined special stat of the pokemon\n",
    "    \"\"\"\n",
    "    coeff_leg = [4.4581, 4.6812]\n",
    "    coeff_not_leg = [4.5253, 5.6831]\n",
    "    c = coeff_leg if legendary else coeff_not_leg  # same as if legendary == True but it automatically assumes it is True\n",
    "\n",
    "#     if legendary == True:    # same as above\n",
    "#        c = coeff_leg\n",
    "#     else\n",
    "#        c = coeff_not_leg\n",
    "    \n",
    "    special = (sp_atk * c[0]**3 + sp_def * c[1]**2)/100\n",
    "\n",
    "    return special\n",
    "\n",
    "Charmander = df_pokemon.set_index('Name').loc['Charmander', ['Sp.Atk', 'Sp.Def', 'Legendary']]\n",
    "Moltres = df_pokemon.set_index('Name').loc['Moltres', ['Sp.Atk', 'Sp.Def', 'Legendary']]\n",
    "\n",
    "print(f\"Charmander has a special score of {calc_special(Charmander['Sp.Atk'], Charmander['Sp.Def'], Charmander['Legendary']):.2f}.\")\n",
    "print(f\"Moltres has a special score of {calc_special(Moltres['Sp.Atk'], Moltres['Sp.Def'], Moltres['Legendary']):.2f}.\")"
   ]
  },
  {
   "cell_type": "markdown",
   "metadata": {},
   "source": [
    "If we want to use a function on the whole DataFrame, the most performant way to do this is by using the ```.apply()``` method. Because our function takes three arguments, we will need to use a lambda function. Consider the following example:\n",
    "\n",
    "```python\n",
    "def calc_sum(hp, attack, defense)\n",
    "    return hp + attack + defense\n",
    "\n",
    "df_pokemon['total_score'] = df_pokemon.apply(lambda row: calc_sum(row['HP'], row['Attack'], row['Defense']), axis=1)\n",
    "```\n",
    "\n",
    "Let's break it down:\n",
    "\n",
    "```python\n",
    "apply - apply method on dataframe\n",
    "lambda - this is an anonymous function\n",
    "row - the parameter name within the function\n",
    "calc_sum - our defined function\n",
    "row['HP'] - indexes the HP column\n",
    "axis=1 - part of the apply method --> applys the function on every row (alternatively on every columns with axis=0)\n",
    "```\n",
    "\n",
    "So, the ```.apply()``` method is going through every record (row since axis=1) one-by-one in the DataFrame. We named the record row (this can be anything) and put it directly after lambda, which is a convention that is often used. We bother with apply because it is much faster than using conventional for-loops (you can always check it with the python %%time it comments you learned).\n",
    "\n",
    "### Assignment 12: apply function\n",
    "\n",
    "- **```.apply()``` you just defined function (calc_special) to df_pokemon using a lambda function**\n",
    "- **Print out the top 5 pokemons with the highest combined special attack/defense!**\n",
    "\n",
    "You should get something like this:"
   ]
  },
  {
   "cell_type": "code",
   "execution_count": 21,
   "metadata": {
    "tags": [
     "hide-input"
    ]
   },
   "outputs": [
    {
     "name": "stdout",
     "output_type": "stream",
     "text": [
      "               Name     special  Sp.Atk  Sp.Def  Legendary\n",
      "164   Mega Mewtwo Y  198.186572     194     120       True\n",
      "306  Mega Gardevoir  196.508338     165     135      False\n",
      "422   Primal Kyogre  194.547577     180     160       True\n",
      "71    Mega Alakazam  192.856351     175      95      False\n",
      "196   Mega Ampharos  188.433932     165     110      False \n",
      "\n"
     ]
    }
   ],
   "source": [
    "df_pokemon[\"special\"] = df_pokemon.apply(lambda row: calc_special(row['Sp.Atk'], row['Sp.Def'], row['Legendary']), axis=1)\n",
    "\n",
    "top_pokemons = df_pokemon[[\"Name\", \"special\", \"Sp.Atk\", \"Sp.Def\",\"Legendary\"]].sort_values(\"special\", ascending=False)\n",
    "print(top_pokemons.head(5), \"\\n\")"
   ]
  },
  {
   "cell_type": "markdown",
   "metadata": {},
   "source": [
    "## Melting and pivoting data\n",
    "\n",
    "Oftentimes we need our data in a Tidy format, you learned what Tidy data is in the lecture. To learn more about this format you can read the paper on Nestor.\n",
    "\n",
    "To get our data in a long format we can use ``.melt()``. The top-level ``melt()`` function and the corresponding ``DataFrame.melt()`` are useful to massage a DataFrame into a format where one or more columns are identifier variables, while all other columns, considered measured variables, are “unpivoted” to the row axis, leaving just two non-identifier columns, “variable” and “value”. The names of those columns can be customized by supplying the var_name and value_name parameters. This image illustrates what happens when you melt a DataFrame:\n",
    "\n",
    "<img src=\"https://pandas.pydata.org/pandas-docs/stable/_images/reshaping_melt.png\" alt=\"Pokemon logo\" width=\"600\"/>\n",
    "\n",
    "### Assignment 13: melting\n",
    "\n",
    "First let's drop some of the rows that we don't need to reduce the complexity of this exercise.\n",
    "\n",
    "```python\n",
    "to_drop = ['HP_z', 'Attack_z', 'Defense_z', 'Sp_Atk_z', 'Sp_Def_z', 'Speed_z', 'Types']\n",
    "```\n",
    "- **Drop these and print the head. Alternatively take the columns you need and assign it to a new dataframe.**\n",
    "\n",
    "You should get something like this:"
   ]
  },
  {
   "cell_type": "code",
   "execution_count": 22,
   "metadata": {
    "tags": [
     "hide-input"
    ]
   },
   "outputs": [
    {
     "data": {
      "application/vnd.microsoft.datawrangler.viewer.v0+json": {
       "columns": [
        {
         "name": "index",
         "rawType": "int64",
         "type": "integer"
        },
        {
         "name": "#",
         "rawType": "int64",
         "type": "integer"
        },
        {
         "name": "Name",
         "rawType": "object",
         "type": "string"
        },
        {
         "name": "HP",
         "rawType": "int64",
         "type": "integer"
        },
        {
         "name": "Attack",
         "rawType": "int64",
         "type": "integer"
        },
        {
         "name": "Defense",
         "rawType": "int64",
         "type": "integer"
        },
        {
         "name": "Sp.Atk",
         "rawType": "int64",
         "type": "integer"
        },
        {
         "name": "Sp.Def",
         "rawType": "int64",
         "type": "integer"
        },
        {
         "name": "Speed",
         "rawType": "int64",
         "type": "integer"
        },
        {
         "name": "Generation",
         "rawType": "int64",
         "type": "integer"
        },
        {
         "name": "Legendary",
         "rawType": "bool",
         "type": "boolean"
        },
        {
         "name": "Version",
         "rawType": "object",
         "type": "string"
        },
        {
         "name": "special",
         "rawType": "float64",
         "type": "float"
        }
       ],
       "conversionMethod": "pd.DataFrame",
       "ref": "ac752024-4832-46d1-9d34-aff54f27714e",
       "rows": [
        [
         "0",
         "1",
         "Bulbasaur",
         "45",
         "49",
         "49",
         "65",
         "65",
         "45",
         "1",
         "False",
         "Patch 1",
         "81.22936771253003"
        ],
        [
         "1",
         "2",
         "Ivysaur",
         "60",
         "62",
         "63",
         "80",
         "80",
         "60",
         "1",
         "False",
         "Patch 1",
         "99.97460641542159"
        ],
        [
         "2",
         "3",
         "Venusaur",
         "80",
         "82",
         "83",
         "100",
         "100",
         "80",
         "1",
         "False",
         "Patch 1",
         "124.96825801927696"
        ],
        [
         "3",
         "4",
         "Mega Venusaur",
         "80",
         "100",
         "123",
         "122",
         "120",
         "80",
         "1",
         "False",
         "Patch 1",
         "151.8153222713179"
        ],
        [
         "4",
         "5",
         "Charmander",
         "39",
         "52",
         "43",
         "60",
         "50",
         "65",
         "1",
         "False",
         "Patch 1",
         "71.75119225056618"
        ]
       ],
       "shape": {
        "columns": 12,
        "rows": 5
       }
      },
      "text/html": [
       "<div>\n",
       "<style scoped>\n",
       "    .dataframe tbody tr th:only-of-type {\n",
       "        vertical-align: middle;\n",
       "    }\n",
       "\n",
       "    .dataframe tbody tr th {\n",
       "        vertical-align: top;\n",
       "    }\n",
       "\n",
       "    .dataframe thead th {\n",
       "        text-align: right;\n",
       "    }\n",
       "</style>\n",
       "<table border=\"1\" class=\"dataframe\">\n",
       "  <thead>\n",
       "    <tr style=\"text-align: right;\">\n",
       "      <th></th>\n",
       "      <th>#</th>\n",
       "      <th>Name</th>\n",
       "      <th>HP</th>\n",
       "      <th>Attack</th>\n",
       "      <th>Defense</th>\n",
       "      <th>Sp.Atk</th>\n",
       "      <th>Sp.Def</th>\n",
       "      <th>Speed</th>\n",
       "      <th>Generation</th>\n",
       "      <th>Legendary</th>\n",
       "      <th>Version</th>\n",
       "      <th>special</th>\n",
       "    </tr>\n",
       "  </thead>\n",
       "  <tbody>\n",
       "    <tr>\n",
       "      <th>0</th>\n",
       "      <td>1</td>\n",
       "      <td>Bulbasaur</td>\n",
       "      <td>45</td>\n",
       "      <td>49</td>\n",
       "      <td>49</td>\n",
       "      <td>65</td>\n",
       "      <td>65</td>\n",
       "      <td>45</td>\n",
       "      <td>1</td>\n",
       "      <td>False</td>\n",
       "      <td>Patch 1</td>\n",
       "      <td>81.229368</td>\n",
       "    </tr>\n",
       "    <tr>\n",
       "      <th>1</th>\n",
       "      <td>2</td>\n",
       "      <td>Ivysaur</td>\n",
       "      <td>60</td>\n",
       "      <td>62</td>\n",
       "      <td>63</td>\n",
       "      <td>80</td>\n",
       "      <td>80</td>\n",
       "      <td>60</td>\n",
       "      <td>1</td>\n",
       "      <td>False</td>\n",
       "      <td>Patch 1</td>\n",
       "      <td>99.974606</td>\n",
       "    </tr>\n",
       "    <tr>\n",
       "      <th>2</th>\n",
       "      <td>3</td>\n",
       "      <td>Venusaur</td>\n",
       "      <td>80</td>\n",
       "      <td>82</td>\n",
       "      <td>83</td>\n",
       "      <td>100</td>\n",
       "      <td>100</td>\n",
       "      <td>80</td>\n",
       "      <td>1</td>\n",
       "      <td>False</td>\n",
       "      <td>Patch 1</td>\n",
       "      <td>124.968258</td>\n",
       "    </tr>\n",
       "    <tr>\n",
       "      <th>3</th>\n",
       "      <td>4</td>\n",
       "      <td>Mega Venusaur</td>\n",
       "      <td>80</td>\n",
       "      <td>100</td>\n",
       "      <td>123</td>\n",
       "      <td>122</td>\n",
       "      <td>120</td>\n",
       "      <td>80</td>\n",
       "      <td>1</td>\n",
       "      <td>False</td>\n",
       "      <td>Patch 1</td>\n",
       "      <td>151.815322</td>\n",
       "    </tr>\n",
       "    <tr>\n",
       "      <th>4</th>\n",
       "      <td>5</td>\n",
       "      <td>Charmander</td>\n",
       "      <td>39</td>\n",
       "      <td>52</td>\n",
       "      <td>43</td>\n",
       "      <td>60</td>\n",
       "      <td>50</td>\n",
       "      <td>65</td>\n",
       "      <td>1</td>\n",
       "      <td>False</td>\n",
       "      <td>Patch 1</td>\n",
       "      <td>71.751192</td>\n",
       "    </tr>\n",
       "  </tbody>\n",
       "</table>\n",
       "</div>"
      ],
      "text/plain": [
       "   #           Name  HP  Attack  Defense  Sp.Atk  Sp.Def  Speed  Generation  \\\n",
       "0  1      Bulbasaur  45      49       49      65      65     45           1   \n",
       "1  2        Ivysaur  60      62       63      80      80     60           1   \n",
       "2  3       Venusaur  80      82       83     100     100     80           1   \n",
       "3  4  Mega Venusaur  80     100      123     122     120     80           1   \n",
       "4  5     Charmander  39      52       43      60      50     65           1   \n",
       "\n",
       "   Legendary  Version     special  \n",
       "0      False  Patch 1   81.229368  \n",
       "1      False  Patch 1   99.974606  \n",
       "2      False  Patch 1  124.968258  \n",
       "3      False  Patch 1  151.815322  \n",
       "4      False  Patch 1   71.751192  "
      ]
     },
     "execution_count": 22,
     "metadata": {},
     "output_type": "execute_result"
    }
   ],
   "source": [
    "to_drop = ['HP_z', 'Attack_z', 'Defense_z', 'Sp.Atk_z', 'Sp.Def_z', 'Speed_z', 'Types']\n",
    "df_pokemon.drop(to_drop, axis=1, inplace=True)\n",
    "df_pokemon.head()"
   ]
  },
  {
   "cell_type": "markdown",
   "metadata": {},
   "source": [
    "````{margin}\n",
    "```{admonition} Tip\n",
    ":class: tip\n",
    "Melting and sorting the data can be done by method chaining!\n",
    "```\n",
    "````\n",
    "- **Now melt the \"stats\" columns of the DataFrame with ``.melt()``. Sort by name and print the head. (stats columns are the HP, Attack, Defense, Sp.Atk, Sp.Df and Speed)** "
   ]
  },
  {
   "cell_type": "code",
   "execution_count": 23,
   "metadata": {
    "scrolled": true,
    "tags": [
     "hide-input"
    ]
   },
   "outputs": [
    {
     "data": {
      "application/vnd.microsoft.datawrangler.viewer.v0+json": {
       "columns": [
        {
         "name": "index",
         "rawType": "int64",
         "type": "integer"
        },
        {
         "name": "Name",
         "rawType": "object",
         "type": "string"
        },
        {
         "name": "#",
         "rawType": "int64",
         "type": "integer"
        },
        {
         "name": "Generation",
         "rawType": "int64",
         "type": "integer"
        },
        {
         "name": "Version",
         "rawType": "object",
         "type": "string"
        },
        {
         "name": "Legendary",
         "rawType": "bool",
         "type": "boolean"
        },
        {
         "name": "variable",
         "rawType": "object",
         "type": "string"
        },
        {
         "name": "value",
         "rawType": "float64",
         "type": "float"
        }
       ],
       "conversionMethod": "pd.DataFrame",
       "ref": "4aaced0e-081e-41d9-b4b8-f3386ccca5aa",
       "rows": [
        [
         "4510",
         "Abomasnow",
         "511",
         "4",
         "Patch 1",
         "False",
         "Speed",
         "60.0"
        ],
        [
         "510",
         "Abomasnow",
         "511",
         "4",
         "Patch 1",
         "False",
         "HP",
         "90.0"
        ],
        [
         "5310",
         "Abomasnow",
         "511",
         "4",
         "Patch 1",
         "False",
         "special",
         "112.70996358503481"
        ],
        [
         "2910",
         "Abomasnow",
         "511",
         "4",
         "Patch 1",
         "False",
         "Sp.Atk",
         "92.0"
        ],
        [
         "1310",
         "Abomasnow",
         "511",
         "4",
         "Patch 1",
         "False",
         "Attack",
         "92.0"
        ]
       ],
       "shape": {
        "columns": 7,
        "rows": 5
       }
      },
      "text/html": [
       "<div>\n",
       "<style scoped>\n",
       "    .dataframe tbody tr th:only-of-type {\n",
       "        vertical-align: middle;\n",
       "    }\n",
       "\n",
       "    .dataframe tbody tr th {\n",
       "        vertical-align: top;\n",
       "    }\n",
       "\n",
       "    .dataframe thead th {\n",
       "        text-align: right;\n",
       "    }\n",
       "</style>\n",
       "<table border=\"1\" class=\"dataframe\">\n",
       "  <thead>\n",
       "    <tr style=\"text-align: right;\">\n",
       "      <th></th>\n",
       "      <th>Name</th>\n",
       "      <th>#</th>\n",
       "      <th>Generation</th>\n",
       "      <th>Version</th>\n",
       "      <th>Legendary</th>\n",
       "      <th>variable</th>\n",
       "      <th>value</th>\n",
       "    </tr>\n",
       "  </thead>\n",
       "  <tbody>\n",
       "    <tr>\n",
       "      <th>4510</th>\n",
       "      <td>Abomasnow</td>\n",
       "      <td>511</td>\n",
       "      <td>4</td>\n",
       "      <td>Patch 1</td>\n",
       "      <td>False</td>\n",
       "      <td>Speed</td>\n",
       "      <td>60.000000</td>\n",
       "    </tr>\n",
       "    <tr>\n",
       "      <th>510</th>\n",
       "      <td>Abomasnow</td>\n",
       "      <td>511</td>\n",
       "      <td>4</td>\n",
       "      <td>Patch 1</td>\n",
       "      <td>False</td>\n",
       "      <td>HP</td>\n",
       "      <td>90.000000</td>\n",
       "    </tr>\n",
       "    <tr>\n",
       "      <th>5310</th>\n",
       "      <td>Abomasnow</td>\n",
       "      <td>511</td>\n",
       "      <td>4</td>\n",
       "      <td>Patch 1</td>\n",
       "      <td>False</td>\n",
       "      <td>special</td>\n",
       "      <td>112.709964</td>\n",
       "    </tr>\n",
       "    <tr>\n",
       "      <th>2910</th>\n",
       "      <td>Abomasnow</td>\n",
       "      <td>511</td>\n",
       "      <td>4</td>\n",
       "      <td>Patch 1</td>\n",
       "      <td>False</td>\n",
       "      <td>Sp.Atk</td>\n",
       "      <td>92.000000</td>\n",
       "    </tr>\n",
       "    <tr>\n",
       "      <th>1310</th>\n",
       "      <td>Abomasnow</td>\n",
       "      <td>511</td>\n",
       "      <td>4</td>\n",
       "      <td>Patch 1</td>\n",
       "      <td>False</td>\n",
       "      <td>Attack</td>\n",
       "      <td>92.000000</td>\n",
       "    </tr>\n",
       "  </tbody>\n",
       "</table>\n",
       "</div>"
      ],
      "text/plain": [
       "           Name    #  Generation  Version  Legendary variable       value\n",
       "4510  Abomasnow  511           4  Patch 1      False    Speed   60.000000\n",
       "510   Abomasnow  511           4  Patch 1      False       HP   90.000000\n",
       "5310  Abomasnow  511           4  Patch 1      False  special  112.709964\n",
       "2910  Abomasnow  511           4  Patch 1      False   Sp.Atk   92.000000\n",
       "1310  Abomasnow  511           4  Patch 1      False   Attack   92.000000"
      ]
     },
     "execution_count": 23,
     "metadata": {},
     "output_type": "execute_result"
    }
   ],
   "source": [
    "df_pokemon_melted = df_pokemon.melt([\"Name\", \"#\", \"Generation\", \"Version\", \"Legendary\"]).sort_values(\"Name\")\n",
    "df_pokemon_melted.head()"
   ]
  },
  {
   "cell_type": "markdown",
   "metadata": {},
   "source": [
    "### Assignment 14: unmelting\n",
    "\n",
    "You could argue that these variables need to be in seperate columns. We can 'unmelt' the variable DataFrame by calling ``.pivot`` on the DataFrame.\n",
    "![image](https://pandas.pydata.org/pandas-docs/stable/_images/reshaping_pivot.png)\n",
    "\n",
    "- **Try this out and see what it returns.**\n",
    "\n",
    "You should get something like this:"
   ]
  },
  {
   "cell_type": "code",
   "execution_count": 24,
   "metadata": {
    "scrolled": true,
    "tags": [
     "hide-input"
    ]
   },
   "outputs": [
    {
     "data": {
      "application/vnd.microsoft.datawrangler.viewer.v0+json": {
       "columns": [
        {
         "name": "Name",
         "rawType": "object",
         "type": "string"
        },
        {
         "name": "Attack",
         "rawType": "float64",
         "type": "float"
        },
        {
         "name": "Defense",
         "rawType": "float64",
         "type": "float"
        },
        {
         "name": "HP",
         "rawType": "float64",
         "type": "float"
        },
        {
         "name": "Sp.Atk",
         "rawType": "float64",
         "type": "float"
        },
        {
         "name": "Sp.Def",
         "rawType": "float64",
         "type": "float"
        },
        {
         "name": "Speed",
         "rawType": "float64",
         "type": "float"
        },
        {
         "name": "special",
         "rawType": "float64",
         "type": "float"
        }
       ],
       "conversionMethod": "pd.DataFrame",
       "ref": "108c251e-2716-4f5a-a7d4-5f6daf8e9037",
       "rows": [
        [
         "Abomasnow",
         "92.0",
         "75.0",
         "90.0",
         "92.0",
         "85.0",
         "60.0",
         "112.70996358503481"
        ],
        [
         "Abra",
         "20.0",
         "15.0",
         "25.0",
         "105.0",
         "55.0",
         "90.0",
         "115.06785811524081"
        ],
        [
         "Absol",
         "130.0",
         "60.0",
         "65.0",
         "75.0",
         "60.0",
         "75.0",
         "88.88154967295773"
        ],
        [
         "Accelgor",
         "70.0",
         "40.0",
         "80.0",
         "100.0",
         "60.0",
         "145.0",
         "112.04920777527697"
        ],
        [
         "Aegislash Blade Forme",
         "150.0",
         "50.0",
         "60.0",
         "150.0",
         "50.0",
         "60.0",
         "155.15476141891546"
        ]
       ],
       "shape": {
        "columns": 7,
        "rows": 5
       }
      },
      "text/html": [
       "<div>\n",
       "<style scoped>\n",
       "    .dataframe tbody tr th:only-of-type {\n",
       "        vertical-align: middle;\n",
       "    }\n",
       "\n",
       "    .dataframe tbody tr th {\n",
       "        vertical-align: top;\n",
       "    }\n",
       "\n",
       "    .dataframe thead th {\n",
       "        text-align: right;\n",
       "    }\n",
       "</style>\n",
       "<table border=\"1\" class=\"dataframe\">\n",
       "  <thead>\n",
       "    <tr style=\"text-align: right;\">\n",
       "      <th>variable</th>\n",
       "      <th>Attack</th>\n",
       "      <th>Defense</th>\n",
       "      <th>HP</th>\n",
       "      <th>Sp.Atk</th>\n",
       "      <th>Sp.Def</th>\n",
       "      <th>Speed</th>\n",
       "      <th>special</th>\n",
       "    </tr>\n",
       "    <tr>\n",
       "      <th>Name</th>\n",
       "      <th></th>\n",
       "      <th></th>\n",
       "      <th></th>\n",
       "      <th></th>\n",
       "      <th></th>\n",
       "      <th></th>\n",
       "      <th></th>\n",
       "    </tr>\n",
       "  </thead>\n",
       "  <tbody>\n",
       "    <tr>\n",
       "      <th>Abomasnow</th>\n",
       "      <td>92.0</td>\n",
       "      <td>75.0</td>\n",
       "      <td>90.0</td>\n",
       "      <td>92.0</td>\n",
       "      <td>85.0</td>\n",
       "      <td>60.0</td>\n",
       "      <td>112.709964</td>\n",
       "    </tr>\n",
       "    <tr>\n",
       "      <th>Abra</th>\n",
       "      <td>20.0</td>\n",
       "      <td>15.0</td>\n",
       "      <td>25.0</td>\n",
       "      <td>105.0</td>\n",
       "      <td>55.0</td>\n",
       "      <td>90.0</td>\n",
       "      <td>115.067858</td>\n",
       "    </tr>\n",
       "    <tr>\n",
       "      <th>Absol</th>\n",
       "      <td>130.0</td>\n",
       "      <td>60.0</td>\n",
       "      <td>65.0</td>\n",
       "      <td>75.0</td>\n",
       "      <td>60.0</td>\n",
       "      <td>75.0</td>\n",
       "      <td>88.881550</td>\n",
       "    </tr>\n",
       "    <tr>\n",
       "      <th>Accelgor</th>\n",
       "      <td>70.0</td>\n",
       "      <td>40.0</td>\n",
       "      <td>80.0</td>\n",
       "      <td>100.0</td>\n",
       "      <td>60.0</td>\n",
       "      <td>145.0</td>\n",
       "      <td>112.049208</td>\n",
       "    </tr>\n",
       "    <tr>\n",
       "      <th>Aegislash Blade Forme</th>\n",
       "      <td>150.0</td>\n",
       "      <td>50.0</td>\n",
       "      <td>60.0</td>\n",
       "      <td>150.0</td>\n",
       "      <td>50.0</td>\n",
       "      <td>60.0</td>\n",
       "      <td>155.154761</td>\n",
       "    </tr>\n",
       "  </tbody>\n",
       "</table>\n",
       "</div>"
      ],
      "text/plain": [
       "variable               Attack  Defense    HP  Sp.Atk  Sp.Def  Speed  \\\n",
       "Name                                                                  \n",
       "Abomasnow                92.0     75.0  90.0    92.0    85.0   60.0   \n",
       "Abra                     20.0     15.0  25.0   105.0    55.0   90.0   \n",
       "Absol                   130.0     60.0  65.0    75.0    60.0   75.0   \n",
       "Accelgor                 70.0     40.0  80.0   100.0    60.0  145.0   \n",
       "Aegislash Blade Forme   150.0     50.0  60.0   150.0    50.0   60.0   \n",
       "\n",
       "variable                  special  \n",
       "Name                               \n",
       "Abomasnow              112.709964  \n",
       "Abra                   115.067858  \n",
       "Absol                   88.881550  \n",
       "Accelgor               112.049208  \n",
       "Aegislash Blade Forme  155.154761  "
      ]
     },
     "execution_count": 24,
     "metadata": {},
     "output_type": "execute_result"
    }
   ],
   "source": [
    "df_pokemon_melted.pivot(index=\"Name\", columns=\"variable\", values=\"value\").head()"
   ]
  },
  {
   "cell_type": "markdown",
   "metadata": {},
   "source": [
    "We have a bit of a special case here as we have multiple columns that were not pivotted. If you encounter this you can use the ``.pivot_table()`` method. Here you can pass a list as an index, in our case:\n",
    "```python\n",
    "pivot_indices = [\"Name\", \"#\", \"Generation\", \"Version\", \"Legendary\"]\n",
    "```\n",
    "Just make sure you ``.reset_index()`` after.\n",
    "\n",
    "- **Try this out and print the head.**\n",
    "\n",
    "You should get something like this:"
   ]
  },
  {
   "cell_type": "code",
   "execution_count": 25,
   "metadata": {
    "tags": [
     "hide-input"
    ]
   },
   "outputs": [
    {
     "data": {
      "application/vnd.microsoft.datawrangler.viewer.v0+json": {
       "columns": [
        {
         "name": "index",
         "rawType": "int64",
         "type": "integer"
        },
        {
         "name": "Name",
         "rawType": "object",
         "type": "string"
        },
        {
         "name": "#",
         "rawType": "int64",
         "type": "integer"
        },
        {
         "name": "Generation",
         "rawType": "int64",
         "type": "integer"
        },
        {
         "name": "Version",
         "rawType": "object",
         "type": "string"
        },
        {
         "name": "Legendary",
         "rawType": "bool",
         "type": "boolean"
        },
        {
         "name": "Attack",
         "rawType": "float64",
         "type": "float"
        },
        {
         "name": "Defense",
         "rawType": "float64",
         "type": "float"
        },
        {
         "name": "HP",
         "rawType": "float64",
         "type": "float"
        },
        {
         "name": "Sp.Atk",
         "rawType": "float64",
         "type": "float"
        },
        {
         "name": "Sp.Def",
         "rawType": "float64",
         "type": "float"
        },
        {
         "name": "Speed",
         "rawType": "float64",
         "type": "float"
        },
        {
         "name": "special",
         "rawType": "float64",
         "type": "float"
        }
       ],
       "conversionMethod": "pd.DataFrame",
       "ref": "2b3e683f-a3cf-4e33-b08c-e46f9d4b2b43",
       "rows": [
        [
         "0",
         "Abomasnow",
         "511",
         "4",
         "Patch 1",
         "False",
         "92.0",
         "75.0",
         "90.0",
         "92.0",
         "85.0",
         "60.0",
         "112.70996358503481"
        ],
        [
         "1",
         "Abra",
         "69",
         "1",
         "Patch 1",
         "False",
         "20.0",
         "15.0",
         "25.0",
         "105.0",
         "55.0",
         "90.0",
         "115.06785811524081"
        ],
        [
         "2",
         "Absol",
         "393",
         "3",
         "Patch 1",
         "False",
         "130.0",
         "60.0",
         "65.0",
         "75.0",
         "60.0",
         "75.0",
         "88.88154967295773"
        ],
        [
         "3",
         "Accelgor",
         "679",
         "5",
         "Patch 1",
         "False",
         "70.0",
         "40.0",
         "80.0",
         "100.0",
         "60.0",
         "145.0",
         "112.04920777527697"
        ],
        [
         "4",
         "Aegislash Blade Forme",
         "751",
         "6",
         "Patch 1",
         "False",
         "150.0",
         "50.0",
         "60.0",
         "150.0",
         "50.0",
         "60.0",
         "155.15476141891546"
        ]
       ],
       "shape": {
        "columns": 12,
        "rows": 5
       }
      },
      "text/html": [
       "<div>\n",
       "<style scoped>\n",
       "    .dataframe tbody tr th:only-of-type {\n",
       "        vertical-align: middle;\n",
       "    }\n",
       "\n",
       "    .dataframe tbody tr th {\n",
       "        vertical-align: top;\n",
       "    }\n",
       "\n",
       "    .dataframe thead th {\n",
       "        text-align: right;\n",
       "    }\n",
       "</style>\n",
       "<table border=\"1\" class=\"dataframe\">\n",
       "  <thead>\n",
       "    <tr style=\"text-align: right;\">\n",
       "      <th>variable</th>\n",
       "      <th>Name</th>\n",
       "      <th>#</th>\n",
       "      <th>Generation</th>\n",
       "      <th>Version</th>\n",
       "      <th>Legendary</th>\n",
       "      <th>Attack</th>\n",
       "      <th>Defense</th>\n",
       "      <th>HP</th>\n",
       "      <th>Sp.Atk</th>\n",
       "      <th>Sp.Def</th>\n",
       "      <th>Speed</th>\n",
       "      <th>special</th>\n",
       "    </tr>\n",
       "  </thead>\n",
       "  <tbody>\n",
       "    <tr>\n",
       "      <th>0</th>\n",
       "      <td>Abomasnow</td>\n",
       "      <td>511</td>\n",
       "      <td>4</td>\n",
       "      <td>Patch 1</td>\n",
       "      <td>False</td>\n",
       "      <td>92.0</td>\n",
       "      <td>75.0</td>\n",
       "      <td>90.0</td>\n",
       "      <td>92.0</td>\n",
       "      <td>85.0</td>\n",
       "      <td>60.0</td>\n",
       "      <td>112.709964</td>\n",
       "    </tr>\n",
       "    <tr>\n",
       "      <th>1</th>\n",
       "      <td>Abra</td>\n",
       "      <td>69</td>\n",
       "      <td>1</td>\n",
       "      <td>Patch 1</td>\n",
       "      <td>False</td>\n",
       "      <td>20.0</td>\n",
       "      <td>15.0</td>\n",
       "      <td>25.0</td>\n",
       "      <td>105.0</td>\n",
       "      <td>55.0</td>\n",
       "      <td>90.0</td>\n",
       "      <td>115.067858</td>\n",
       "    </tr>\n",
       "    <tr>\n",
       "      <th>2</th>\n",
       "      <td>Absol</td>\n",
       "      <td>393</td>\n",
       "      <td>3</td>\n",
       "      <td>Patch 1</td>\n",
       "      <td>False</td>\n",
       "      <td>130.0</td>\n",
       "      <td>60.0</td>\n",
       "      <td>65.0</td>\n",
       "      <td>75.0</td>\n",
       "      <td>60.0</td>\n",
       "      <td>75.0</td>\n",
       "      <td>88.881550</td>\n",
       "    </tr>\n",
       "    <tr>\n",
       "      <th>3</th>\n",
       "      <td>Accelgor</td>\n",
       "      <td>679</td>\n",
       "      <td>5</td>\n",
       "      <td>Patch 1</td>\n",
       "      <td>False</td>\n",
       "      <td>70.0</td>\n",
       "      <td>40.0</td>\n",
       "      <td>80.0</td>\n",
       "      <td>100.0</td>\n",
       "      <td>60.0</td>\n",
       "      <td>145.0</td>\n",
       "      <td>112.049208</td>\n",
       "    </tr>\n",
       "    <tr>\n",
       "      <th>4</th>\n",
       "      <td>Aegislash Blade Forme</td>\n",
       "      <td>751</td>\n",
       "      <td>6</td>\n",
       "      <td>Patch 1</td>\n",
       "      <td>False</td>\n",
       "      <td>150.0</td>\n",
       "      <td>50.0</td>\n",
       "      <td>60.0</td>\n",
       "      <td>150.0</td>\n",
       "      <td>50.0</td>\n",
       "      <td>60.0</td>\n",
       "      <td>155.154761</td>\n",
       "    </tr>\n",
       "  </tbody>\n",
       "</table>\n",
       "</div>"
      ],
      "text/plain": [
       "variable                   Name    #  Generation  Version  Legendary  Attack  \\\n",
       "0                     Abomasnow  511           4  Patch 1      False    92.0   \n",
       "1                          Abra   69           1  Patch 1      False    20.0   \n",
       "2                         Absol  393           3  Patch 1      False   130.0   \n",
       "3                      Accelgor  679           5  Patch 1      False    70.0   \n",
       "4         Aegislash Blade Forme  751           6  Patch 1      False   150.0   \n",
       "\n",
       "variable  Defense    HP  Sp.Atk  Sp.Def  Speed     special  \n",
       "0            75.0  90.0    92.0    85.0   60.0  112.709964  \n",
       "1            15.0  25.0   105.0    55.0   90.0  115.067858  \n",
       "2            60.0  65.0    75.0    60.0   75.0   88.881550  \n",
       "3            40.0  80.0   100.0    60.0  145.0  112.049208  \n",
       "4            50.0  60.0   150.0    50.0   60.0  155.154761  "
      ]
     },
     "execution_count": 25,
     "metadata": {},
     "output_type": "execute_result"
    }
   ],
   "source": [
    "df_pokemon_melted.pivot_table(index=[\"Name\", \"#\", \"Generation\", \"Version\", \"Legendary\"], \n",
    "                           values=\"value\", columns=\"variable\").reset_index().head()"
   ]
  },
  {
   "cell_type": "markdown",
   "metadata": {},
   "source": [
    "## More descriptives\n",
    "\n",
    "Let's do some basic statistics regarding these Pokemon:\n",
    "\n",
    "### Assignment 15: more descriptives and seaborn\n",
    "\n",
    "The stats that we are interested are these:\n",
    "\n",
    "```python\n",
    "stats = ['HP', 'Attack', 'Defense', 'special']\n",
    "```\n",
    "\n",
    "- **Find out the mean HP, Attack, and Defense for legendary vs non-legendary Pokemon. Remember the ```.groupby()``` method?**\n",
    "\n",
    "- **Do the same, but additionally split it up per generation.**\n",
    "\n",
    "You should get something like this:"
   ]
  },
  {
   "cell_type": "code",
   "execution_count": 26,
   "metadata": {
    "scrolled": true,
    "tags": [
     "hide-input"
    ]
   },
   "outputs": [
    {
     "name": "stdout",
     "output_type": "stream",
     "text": [
      "                  HP      Attack    Defense     special\n",
      "Legendary                                              \n",
      "False      67.182313   75.669388  71.559184   85.687793\n",
      "True       92.738462  116.676923  99.661538  131.474448\n",
      "                              HP      Attack     Defense     special\n",
      "Generation Legendary                                                \n",
      "1          False       64.612500   74.981250   70.175000   86.065448\n",
      "           True        98.000000  120.833333   89.166667  147.357048\n",
      "2          False       69.613861   70.693069   72.118812   82.732810\n",
      "           True       103.400000   99.000000   99.000000  113.925876\n",
      "3          False       64.626761   76.971831   69.901408   85.598125\n",
      "           True        81.666667  118.333333  107.222222  136.695676\n",
      "4          False       69.740741   79.620370   75.074074   90.277274\n",
      "           True       100.846154  109.846154  103.538462  125.605066\n",
      "5          False       69.353333   78.246667   70.486667   83.913961\n",
      "           True        96.133333  120.266667   90.733333  124.549724\n",
      "6          False       66.189189   70.459459   74.013514   85.973902\n",
      "           True        87.500000  125.250000  101.375000  141.304195\n"
     ]
    }
   ],
   "source": [
    "stats = ['HP', 'Attack', 'Defense', 'special']\n",
    "print(df_pokemon.groupby(\"Legendary\")[stats].mean())\n",
    "print(df_pokemon.groupby([\"Generation\", \"Legendary\"])[stats].mean())"
   ]
  },
  {
   "cell_type": "markdown",
   "metadata": {},
   "source": [
    "Lets explore the seaborn package a bit more, remember our objective?\n",
    "\n",
    ">Objective of this practical:\n",
    ">\n",
    ">You are selected to compete at the Pokémon World Champion Ships Master Tournament! Which pokemons do you need to be the best pokemon coach?\n",
    "\n",
    "```{admonition} Tip\n",
    ":class: tip\n",
    "Please look up the docs for a barplot. Look especially at the 'hue' parameter, what does it do?\n",
    "```\n",
    "- **Plot the mean HP for each Generation and seperately for Legendary in a barplot.**"
   ]
  },
  {
   "cell_type": "code",
   "execution_count": 27,
   "metadata": {
    "scrolled": true,
    "tags": [
     "hide-input"
    ]
   },
   "outputs": [
    {
     "data": {
      "image/png": "[encoded data removed]",
      "text/plain": [
       "<Figure size 640x480 with 1 Axes>"
      ]
     },
     "metadata": {},
     "output_type": "display_data"
    }
   ],
   "source": [
    "df_pokemon[\"Legendary_str\"] = df_pokemon[\"Legendary\"].astype(str)\n",
    "\n",
    "sns.barplot(data=df_pokemon, x='Generation', y=\"HP\", hue='Legendary_str')\n",
    "plt.show()"
   ]
  },
  {
   "cell_type": "markdown",
   "metadata": {},
   "source": [
    "````{margin}\n",
    "```{admonition} Tip\n",
    ":class: tip\n",
    "Method chaining!\n",
    "```\n",
    "````\n",
    "- **Find the highest health (=HP) Pokemon for each generation.**\n",
    "\n",
    "You should get something like this:"
   ]
  },
  {
   "cell_type": "code",
   "execution_count": 28,
   "metadata": {
    "tags": [
     "hide-input"
    ]
   },
   "outputs": [
    {
     "data": {
      "application/vnd.microsoft.datawrangler.viewer.v0+json": {
       "columns": [
        {
         "name": "index",
         "rawType": "int64",
         "type": "integer"
        },
        {
         "name": "#",
         "rawType": "int64",
         "type": "integer"
        },
        {
         "name": "Name",
         "rawType": "object",
         "type": "string"
        },
        {
         "name": "HP",
         "rawType": "int64",
         "type": "integer"
        },
        {
         "name": "Attack",
         "rawType": "int64",
         "type": "integer"
        },
        {
         "name": "Defense",
         "rawType": "int64",
         "type": "integer"
        },
        {
         "name": "Sp.Atk",
         "rawType": "int64",
         "type": "integer"
        },
        {
         "name": "Sp.Def",
         "rawType": "int64",
         "type": "integer"
        },
        {
         "name": "Speed",
         "rawType": "int64",
         "type": "integer"
        },
        {
         "name": "Generation",
         "rawType": "int64",
         "type": "integer"
        },
        {
         "name": "Legendary",
         "rawType": "bool",
         "type": "boolean"
        },
        {
         "name": "Version",
         "rawType": "object",
         "type": "string"
        },
        {
         "name": "special",
         "rawType": "float64",
         "type": "float"
        },
        {
         "name": "Legendary_str",
         "rawType": "object",
         "type": "string"
        }
       ],
       "conversionMethod": "pd.DataFrame",
       "ref": "2f1c7f79-509b-4196-b0e6-82c94065078c",
       "rows": [
        [
         "121",
         "122",
         "Chansey",
         "250",
         "5",
         "5",
         "35",
         "105",
         "50",
         "1",
         "False",
         "Patch 1",
         "66.34722823374693",
         "False"
        ],
        [
         "261",
         "262",
         "Blissey",
         "255",
         "10",
         "10",
         "75",
         "135",
         "55",
         "2",
         "False",
         "Patch 1",
         "113.10476888045773",
         "False"
        ],
        [
         "351",
         "352",
         "Wailord",
         "170",
         "90",
         "45",
         "90",
         "45",
         "60",
         "3",
         "False",
         "Patch 1",
         "97.93750069284928",
         "False"
        ],
        [
         "473",
         "474",
         "Drifblim",
         "150",
         "80",
         "44",
         "90",
         "54",
         "80",
         "4",
         "False",
         "Patch 1",
         "100.84428699774928",
         "False"
        ],
        [
         "655",
         "656",
         "Alomomola",
         "165",
         "75",
         "80",
         "40",
         "45",
         "65",
         "5",
         "False",
         "Patch 1",
         "51.60218448821079",
         "False"
        ],
        [
         "792",
         "793",
         "Xerneas",
         "126",
         "131",
         "95",
         "131",
         "98",
         "99",
         "6",
         "True",
         "Patch 1",
         "137.5455556203727",
         "True"
        ]
       ],
       "shape": {
        "columns": 13,
        "rows": 6
       }
      },
      "text/html": [
       "<div>\n",
       "<style scoped>\n",
       "    .dataframe tbody tr th:only-of-type {\n",
       "        vertical-align: middle;\n",
       "    }\n",
       "\n",
       "    .dataframe tbody tr th {\n",
       "        vertical-align: top;\n",
       "    }\n",
       "\n",
       "    .dataframe thead th {\n",
       "        text-align: right;\n",
       "    }\n",
       "</style>\n",
       "<table border=\"1\" class=\"dataframe\">\n",
       "  <thead>\n",
       "    <tr style=\"text-align: right;\">\n",
       "      <th></th>\n",
       "      <th>#</th>\n",
       "      <th>Name</th>\n",
       "      <th>HP</th>\n",
       "      <th>Attack</th>\n",
       "      <th>Defense</th>\n",
       "      <th>Sp.Atk</th>\n",
       "      <th>Sp.Def</th>\n",
       "      <th>Speed</th>\n",
       "      <th>Generation</th>\n",
       "      <th>Legendary</th>\n",
       "      <th>Version</th>\n",
       "      <th>special</th>\n",
       "      <th>Legendary_str</th>\n",
       "    </tr>\n",
       "  </thead>\n",
       "  <tbody>\n",
       "    <tr>\n",
       "      <th>121</th>\n",
       "      <td>122</td>\n",
       "      <td>Chansey</td>\n",
       "      <td>250</td>\n",
       "      <td>5</td>\n",
       "      <td>5</td>\n",
       "      <td>35</td>\n",
       "      <td>105</td>\n",
       "      <td>50</td>\n",
       "      <td>1</td>\n",
       "      <td>False</td>\n",
       "      <td>Patch 1</td>\n",
       "      <td>66.347228</td>\n",
       "      <td>False</td>\n",
       "    </tr>\n",
       "    <tr>\n",
       "      <th>261</th>\n",
       "      <td>262</td>\n",
       "      <td>Blissey</td>\n",
       "      <td>255</td>\n",
       "      <td>10</td>\n",
       "      <td>10</td>\n",
       "      <td>75</td>\n",
       "      <td>135</td>\n",
       "      <td>55</td>\n",
       "      <td>2</td>\n",
       "      <td>False</td>\n",
       "      <td>Patch 1</td>\n",
       "      <td>113.104769</td>\n",
       "      <td>False</td>\n",
       "    </tr>\n",
       "    <tr>\n",
       "      <th>351</th>\n",
       "      <td>352</td>\n",
       "      <td>Wailord</td>\n",
       "      <td>170</td>\n",
       "      <td>90</td>\n",
       "      <td>45</td>\n",
       "      <td>90</td>\n",
       "      <td>45</td>\n",
       "      <td>60</td>\n",
       "      <td>3</td>\n",
       "      <td>False</td>\n",
       "      <td>Patch 1</td>\n",
       "      <td>97.937501</td>\n",
       "      <td>False</td>\n",
       "    </tr>\n",
       "    <tr>\n",
       "      <th>473</th>\n",
       "      <td>474</td>\n",
       "      <td>Drifblim</td>\n",
       "      <td>150</td>\n",
       "      <td>80</td>\n",
       "      <td>44</td>\n",
       "      <td>90</td>\n",
       "      <td>54</td>\n",
       "      <td>80</td>\n",
       "      <td>4</td>\n",
       "      <td>False</td>\n",
       "      <td>Patch 1</td>\n",
       "      <td>100.844287</td>\n",
       "      <td>False</td>\n",
       "    </tr>\n",
       "    <tr>\n",
       "      <th>655</th>\n",
       "      <td>656</td>\n",
       "      <td>Alomomola</td>\n",
       "      <td>165</td>\n",
       "      <td>75</td>\n",
       "      <td>80</td>\n",
       "      <td>40</td>\n",
       "      <td>45</td>\n",
       "      <td>65</td>\n",
       "      <td>5</td>\n",
       "      <td>False</td>\n",
       "      <td>Patch 1</td>\n",
       "      <td>51.602184</td>\n",
       "      <td>False</td>\n",
       "    </tr>\n",
       "    <tr>\n",
       "      <th>792</th>\n",
       "      <td>793</td>\n",
       "      <td>Xerneas</td>\n",
       "      <td>126</td>\n",
       "      <td>131</td>\n",
       "      <td>95</td>\n",
       "      <td>131</td>\n",
       "      <td>98</td>\n",
       "      <td>99</td>\n",
       "      <td>6</td>\n",
       "      <td>True</td>\n",
       "      <td>Patch 1</td>\n",
       "      <td>137.545556</td>\n",
       "      <td>True</td>\n",
       "    </tr>\n",
       "  </tbody>\n",
       "</table>\n",
       "</div>"
      ],
      "text/plain": [
       "       #       Name   HP  Attack  Defense  Sp.Atk  Sp.Def  Speed  Generation  \\\n",
       "121  122    Chansey  250       5        5      35     105     50           1   \n",
       "261  262    Blissey  255      10       10      75     135     55           2   \n",
       "351  352    Wailord  170      90       45      90      45     60           3   \n",
       "473  474   Drifblim  150      80       44      90      54     80           4   \n",
       "655  656  Alomomola  165      75       80      40      45     65           5   \n",
       "792  793    Xerneas  126     131       95     131      98     99           6   \n",
       "\n",
       "     Legendary  Version     special Legendary_str  \n",
       "121      False  Patch 1   66.347228         False  \n",
       "261      False  Patch 1  113.104769         False  \n",
       "351      False  Patch 1   97.937501         False  \n",
       "473      False  Patch 1  100.844287         False  \n",
       "655      False  Patch 1   51.602184         False  \n",
       "792       True  Patch 1  137.545556          True  "
      ]
     },
     "execution_count": 28,
     "metadata": {},
     "output_type": "execute_result"
    }
   ],
   "source": [
    "df_pokemon.sort_values([\"HP\"], ascending=False).drop_duplicates(\"Generation\").sort_values(\"Generation\")"
   ]
  },
  {
   "cell_type": "markdown",
   "metadata": {},
   "source": [
    "Let's try another cool plot from the seaborn library, please look at the docs of a swarmplot.\n",
    "\n",
    "- **Try to see if there is [power-creep](https://en.wikipedia.org/wiki/Glossary_of_video_game_terms#Power_creep) between generations. Use swarmplot from the seaborn library to plot the Pokemon attack per generation and make sure to highlight the Legendary pokemons.**"
   ]
  },
  {
   "cell_type": "code",
   "execution_count": 29,
   "metadata": {
    "tags": [
     "hide-input"
    ]
   },
   "outputs": [
    {
     "data": {
      "text/plain": [
       "<Axes: xlabel='Generation', ylabel='Attack'>"
      ]
     },
     "execution_count": 29,
     "metadata": {},
     "output_type": "execute_result"
    },
    {
     "data": {
      "image/png": "[encoded data removed]",
      "text/plain": [
       "<Figure size 640x480 with 1 Axes>"
      ]
     },
     "metadata": {},
     "output_type": "display_data"
    }
   ],
   "source": [
    "sns.swarmplot(x=\"Generation\", y=\"Attack\", data=df_pokemon, hue='Legendary_str', size=4.)"
   ]
  },
  {
   "cell_type": "markdown",
   "metadata": {},
   "source": [
    "You sure have a feeling now who you should take to the World Championship! Good luck, prepare yourself mentally by looking how Ash [wins](https://www.youtube.com/watch?v=M0DYQLSMkGk)!\n",
    "\n",
    "As a reward, you can look at this cute picture!\n",
    "\n",
    "\n",
    "```{admonition} Click here!\n",
    ":class: tip, dropdown\n",
    "<img src=\"https://www.pngall.com/wp-content/uploads/5/Cute-Pikachu-PNG-Image.png\" alt=\"cute pika\" width=\"200\"/>\n",
    "```"
   ]
  }
 ],
 "metadata": {
  "celltoolbar": "Tags",
  "hide_input": false,
  "kernelspec": {
   "display_name": "big_data_environment",
   "language": "python",
   "name": "python3"
  },
  "language_info": {
   "codemirror_mode": {
    "name": "ipython",
    "version": 3
   },
   "file_extension": ".py",
   "mimetype": "text/x-python",
   "name": "python",
   "nbconvert_exporter": "python",
   "pygments_lexer": "ipython3",
   "version": "3.13.2"
  },
  "toc": {
   "base_numbering": 1,
   "nav_menu": {},
   "number_sections": true,
   "sideBar": true,
   "skip_h1_title": true,
   "title_cell": "Table of Contents",
   "title_sidebar": "Contents",
   "toc_cell": false,
   "toc_position": {
    "height": "calc(100% - 180px)",
    "left": "10px",
    "top": "150px",
    "width": "283.117px"
   },
   "toc_section_display": true,
   "toc_window_display": true
  }
 },
 "nbformat": 4,
 "nbformat_minor": 4
}
